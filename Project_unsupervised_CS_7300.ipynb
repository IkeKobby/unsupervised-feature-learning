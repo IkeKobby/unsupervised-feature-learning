{
  "nbformat": 4,
  "nbformat_minor": 0,
  "metadata": {
    "colab": {
      "provenance": [],
      "gpuType": "V28"
    },
    "kernelspec": {
      "name": "python3",
      "display_name": "Python 3"
    },
    "language_info": {
      "name": "python"
    },
    "accelerator": "TPU",
    "widgets": {
      "application/vnd.jupyter.widget-state+json": {
        "80b66d8a1029495eb12ef59c6ab844f9": {
          "model_module": "@jupyter-widgets/controls",
          "model_name": "HBoxModel",
          "model_module_version": "1.5.0",
          "state": {
            "_dom_classes": [],
            "_model_module": "@jupyter-widgets/controls",
            "_model_module_version": "1.5.0",
            "_model_name": "HBoxModel",
            "_view_count": null,
            "_view_module": "@jupyter-widgets/controls",
            "_view_module_version": "1.5.0",
            "_view_name": "HBoxView",
            "box_style": "",
            "children": [
              "IPY_MODEL_f9577e5cb1804a8e9654d53dcd6328af",
              "IPY_MODEL_fd9ec57c4f4841fe93fb53bb09630e4a",
              "IPY_MODEL_012d3bcd402a497bbedb3e30e96af9ab"
            ],
            "layout": "IPY_MODEL_b32607e5680946a7941cde1a361daebd"
          }
        },
        "f9577e5cb1804a8e9654d53dcd6328af": {
          "model_module": "@jupyter-widgets/controls",
          "model_name": "HTMLModel",
          "model_module_version": "1.5.0",
          "state": {
            "_dom_classes": [],
            "_model_module": "@jupyter-widgets/controls",
            "_model_module_version": "1.5.0",
            "_model_name": "HTMLModel",
            "_view_count": null,
            "_view_module": "@jupyter-widgets/controls",
            "_view_module_version": "1.5.0",
            "_view_name": "HTMLView",
            "description": "",
            "description_tooltip": null,
            "layout": "IPY_MODEL_7320fe83bc8b463c87403599cd42261e",
            "placeholder": "​",
            "style": "IPY_MODEL_b27c59e845db4e27876f72cf58e1e7ca",
            "value": "tokenizer_config.json: 100%"
          }
        },
        "fd9ec57c4f4841fe93fb53bb09630e4a": {
          "model_module": "@jupyter-widgets/controls",
          "model_name": "FloatProgressModel",
          "model_module_version": "1.5.0",
          "state": {
            "_dom_classes": [],
            "_model_module": "@jupyter-widgets/controls",
            "_model_module_version": "1.5.0",
            "_model_name": "FloatProgressModel",
            "_view_count": null,
            "_view_module": "@jupyter-widgets/controls",
            "_view_module_version": "1.5.0",
            "_view_name": "ProgressView",
            "bar_style": "success",
            "description": "",
            "description_tooltip": null,
            "layout": "IPY_MODEL_3d60339b9e7e4b0d8af332adffe3e583",
            "max": 28,
            "min": 0,
            "orientation": "horizontal",
            "style": "IPY_MODEL_4584c97afa284a4e9870e70abef9f8c7",
            "value": 28
          }
        },
        "012d3bcd402a497bbedb3e30e96af9ab": {
          "model_module": "@jupyter-widgets/controls",
          "model_name": "HTMLModel",
          "model_module_version": "1.5.0",
          "state": {
            "_dom_classes": [],
            "_model_module": "@jupyter-widgets/controls",
            "_model_module_version": "1.5.0",
            "_model_name": "HTMLModel",
            "_view_count": null,
            "_view_module": "@jupyter-widgets/controls",
            "_view_module_version": "1.5.0",
            "_view_name": "HTMLView",
            "description": "",
            "description_tooltip": null,
            "layout": "IPY_MODEL_aaef36d0500447348910a77846a7ffa5",
            "placeholder": "​",
            "style": "IPY_MODEL_7c57fc2afd494580b9afcf458e5a83d3",
            "value": " 28.0/28.0 [00:00&lt;00:00, 1.32kB/s]"
          }
        },
        "b32607e5680946a7941cde1a361daebd": {
          "model_module": "@jupyter-widgets/base",
          "model_name": "LayoutModel",
          "model_module_version": "1.2.0",
          "state": {
            "_model_module": "@jupyter-widgets/base",
            "_model_module_version": "1.2.0",
            "_model_name": "LayoutModel",
            "_view_count": null,
            "_view_module": "@jupyter-widgets/base",
            "_view_module_version": "1.2.0",
            "_view_name": "LayoutView",
            "align_content": null,
            "align_items": null,
            "align_self": null,
            "border": null,
            "bottom": null,
            "display": null,
            "flex": null,
            "flex_flow": null,
            "grid_area": null,
            "grid_auto_columns": null,
            "grid_auto_flow": null,
            "grid_auto_rows": null,
            "grid_column": null,
            "grid_gap": null,
            "grid_row": null,
            "grid_template_areas": null,
            "grid_template_columns": null,
            "grid_template_rows": null,
            "height": null,
            "justify_content": null,
            "justify_items": null,
            "left": null,
            "margin": null,
            "max_height": null,
            "max_width": null,
            "min_height": null,
            "min_width": null,
            "object_fit": null,
            "object_position": null,
            "order": null,
            "overflow": null,
            "overflow_x": null,
            "overflow_y": null,
            "padding": null,
            "right": null,
            "top": null,
            "visibility": null,
            "width": null
          }
        },
        "7320fe83bc8b463c87403599cd42261e": {
          "model_module": "@jupyter-widgets/base",
          "model_name": "LayoutModel",
          "model_module_version": "1.2.0",
          "state": {
            "_model_module": "@jupyter-widgets/base",
            "_model_module_version": "1.2.0",
            "_model_name": "LayoutModel",
            "_view_count": null,
            "_view_module": "@jupyter-widgets/base",
            "_view_module_version": "1.2.0",
            "_view_name": "LayoutView",
            "align_content": null,
            "align_items": null,
            "align_self": null,
            "border": null,
            "bottom": null,
            "display": null,
            "flex": null,
            "flex_flow": null,
            "grid_area": null,
            "grid_auto_columns": null,
            "grid_auto_flow": null,
            "grid_auto_rows": null,
            "grid_column": null,
            "grid_gap": null,
            "grid_row": null,
            "grid_template_areas": null,
            "grid_template_columns": null,
            "grid_template_rows": null,
            "height": null,
            "justify_content": null,
            "justify_items": null,
            "left": null,
            "margin": null,
            "max_height": null,
            "max_width": null,
            "min_height": null,
            "min_width": null,
            "object_fit": null,
            "object_position": null,
            "order": null,
            "overflow": null,
            "overflow_x": null,
            "overflow_y": null,
            "padding": null,
            "right": null,
            "top": null,
            "visibility": null,
            "width": null
          }
        },
        "b27c59e845db4e27876f72cf58e1e7ca": {
          "model_module": "@jupyter-widgets/controls",
          "model_name": "DescriptionStyleModel",
          "model_module_version": "1.5.0",
          "state": {
            "_model_module": "@jupyter-widgets/controls",
            "_model_module_version": "1.5.0",
            "_model_name": "DescriptionStyleModel",
            "_view_count": null,
            "_view_module": "@jupyter-widgets/base",
            "_view_module_version": "1.2.0",
            "_view_name": "StyleView",
            "description_width": ""
          }
        },
        "3d60339b9e7e4b0d8af332adffe3e583": {
          "model_module": "@jupyter-widgets/base",
          "model_name": "LayoutModel",
          "model_module_version": "1.2.0",
          "state": {
            "_model_module": "@jupyter-widgets/base",
            "_model_module_version": "1.2.0",
            "_model_name": "LayoutModel",
            "_view_count": null,
            "_view_module": "@jupyter-widgets/base",
            "_view_module_version": "1.2.0",
            "_view_name": "LayoutView",
            "align_content": null,
            "align_items": null,
            "align_self": null,
            "border": null,
            "bottom": null,
            "display": null,
            "flex": null,
            "flex_flow": null,
            "grid_area": null,
            "grid_auto_columns": null,
            "grid_auto_flow": null,
            "grid_auto_rows": null,
            "grid_column": null,
            "grid_gap": null,
            "grid_row": null,
            "grid_template_areas": null,
            "grid_template_columns": null,
            "grid_template_rows": null,
            "height": null,
            "justify_content": null,
            "justify_items": null,
            "left": null,
            "margin": null,
            "max_height": null,
            "max_width": null,
            "min_height": null,
            "min_width": null,
            "object_fit": null,
            "object_position": null,
            "order": null,
            "overflow": null,
            "overflow_x": null,
            "overflow_y": null,
            "padding": null,
            "right": null,
            "top": null,
            "visibility": null,
            "width": null
          }
        },
        "4584c97afa284a4e9870e70abef9f8c7": {
          "model_module": "@jupyter-widgets/controls",
          "model_name": "ProgressStyleModel",
          "model_module_version": "1.5.0",
          "state": {
            "_model_module": "@jupyter-widgets/controls",
            "_model_module_version": "1.5.0",
            "_model_name": "ProgressStyleModel",
            "_view_count": null,
            "_view_module": "@jupyter-widgets/base",
            "_view_module_version": "1.2.0",
            "_view_name": "StyleView",
            "bar_color": null,
            "description_width": ""
          }
        },
        "aaef36d0500447348910a77846a7ffa5": {
          "model_module": "@jupyter-widgets/base",
          "model_name": "LayoutModel",
          "model_module_version": "1.2.0",
          "state": {
            "_model_module": "@jupyter-widgets/base",
            "_model_module_version": "1.2.0",
            "_model_name": "LayoutModel",
            "_view_count": null,
            "_view_module": "@jupyter-widgets/base",
            "_view_module_version": "1.2.0",
            "_view_name": "LayoutView",
            "align_content": null,
            "align_items": null,
            "align_self": null,
            "border": null,
            "bottom": null,
            "display": null,
            "flex": null,
            "flex_flow": null,
            "grid_area": null,
            "grid_auto_columns": null,
            "grid_auto_flow": null,
            "grid_auto_rows": null,
            "grid_column": null,
            "grid_gap": null,
            "grid_row": null,
            "grid_template_areas": null,
            "grid_template_columns": null,
            "grid_template_rows": null,
            "height": null,
            "justify_content": null,
            "justify_items": null,
            "left": null,
            "margin": null,
            "max_height": null,
            "max_width": null,
            "min_height": null,
            "min_width": null,
            "object_fit": null,
            "object_position": null,
            "order": null,
            "overflow": null,
            "overflow_x": null,
            "overflow_y": null,
            "padding": null,
            "right": null,
            "top": null,
            "visibility": null,
            "width": null
          }
        },
        "7c57fc2afd494580b9afcf458e5a83d3": {
          "model_module": "@jupyter-widgets/controls",
          "model_name": "DescriptionStyleModel",
          "model_module_version": "1.5.0",
          "state": {
            "_model_module": "@jupyter-widgets/controls",
            "_model_module_version": "1.5.0",
            "_model_name": "DescriptionStyleModel",
            "_view_count": null,
            "_view_module": "@jupyter-widgets/base",
            "_view_module_version": "1.2.0",
            "_view_name": "StyleView",
            "description_width": ""
          }
        },
        "fa1a0917f1c646ab9fd49080031e473d": {
          "model_module": "@jupyter-widgets/controls",
          "model_name": "HBoxModel",
          "model_module_version": "1.5.0",
          "state": {
            "_dom_classes": [],
            "_model_module": "@jupyter-widgets/controls",
            "_model_module_version": "1.5.0",
            "_model_name": "HBoxModel",
            "_view_count": null,
            "_view_module": "@jupyter-widgets/controls",
            "_view_module_version": "1.5.0",
            "_view_name": "HBoxView",
            "box_style": "",
            "children": [
              "IPY_MODEL_80c68b217e4546589268b7d29f1fec7f",
              "IPY_MODEL_2e87b3de5b484c1d8a12811654b71a6b",
              "IPY_MODEL_bd65ed894efc4d959379ece2eb4f6fa6"
            ],
            "layout": "IPY_MODEL_57ff8306646f4571b40230df89f5573b"
          }
        },
        "80c68b217e4546589268b7d29f1fec7f": {
          "model_module": "@jupyter-widgets/controls",
          "model_name": "HTMLModel",
          "model_module_version": "1.5.0",
          "state": {
            "_dom_classes": [],
            "_model_module": "@jupyter-widgets/controls",
            "_model_module_version": "1.5.0",
            "_model_name": "HTMLModel",
            "_view_count": null,
            "_view_module": "@jupyter-widgets/controls",
            "_view_module_version": "1.5.0",
            "_view_name": "HTMLView",
            "description": "",
            "description_tooltip": null,
            "layout": "IPY_MODEL_55d64610a6b64866be7e8d5847ce85bb",
            "placeholder": "​",
            "style": "IPY_MODEL_3026c236cf464cff828b92a7795c1964",
            "value": "config.json: 100%"
          }
        },
        "2e87b3de5b484c1d8a12811654b71a6b": {
          "model_module": "@jupyter-widgets/controls",
          "model_name": "FloatProgressModel",
          "model_module_version": "1.5.0",
          "state": {
            "_dom_classes": [],
            "_model_module": "@jupyter-widgets/controls",
            "_model_module_version": "1.5.0",
            "_model_name": "FloatProgressModel",
            "_view_count": null,
            "_view_module": "@jupyter-widgets/controls",
            "_view_module_version": "1.5.0",
            "_view_name": "ProgressView",
            "bar_style": "success",
            "description": "",
            "description_tooltip": null,
            "layout": "IPY_MODEL_eea27e0dd54340b8901c323bc3896066",
            "max": 385,
            "min": 0,
            "orientation": "horizontal",
            "style": "IPY_MODEL_24d9a21c02d14bcd93578e22c4d8be95",
            "value": 385
          }
        },
        "bd65ed894efc4d959379ece2eb4f6fa6": {
          "model_module": "@jupyter-widgets/controls",
          "model_name": "HTMLModel",
          "model_module_version": "1.5.0",
          "state": {
            "_dom_classes": [],
            "_model_module": "@jupyter-widgets/controls",
            "_model_module_version": "1.5.0",
            "_model_name": "HTMLModel",
            "_view_count": null,
            "_view_module": "@jupyter-widgets/controls",
            "_view_module_version": "1.5.0",
            "_view_name": "HTMLView",
            "description": "",
            "description_tooltip": null,
            "layout": "IPY_MODEL_9add681a15ed4c1ab6acb72ce7caf9b3",
            "placeholder": "​",
            "style": "IPY_MODEL_86bbaaea76174a88a58d9cd53898eb98",
            "value": " 385/385 [00:00&lt;00:00, 14.5kB/s]"
          }
        },
        "57ff8306646f4571b40230df89f5573b": {
          "model_module": "@jupyter-widgets/base",
          "model_name": "LayoutModel",
          "model_module_version": "1.2.0",
          "state": {
            "_model_module": "@jupyter-widgets/base",
            "_model_module_version": "1.2.0",
            "_model_name": "LayoutModel",
            "_view_count": null,
            "_view_module": "@jupyter-widgets/base",
            "_view_module_version": "1.2.0",
            "_view_name": "LayoutView",
            "align_content": null,
            "align_items": null,
            "align_self": null,
            "border": null,
            "bottom": null,
            "display": null,
            "flex": null,
            "flex_flow": null,
            "grid_area": null,
            "grid_auto_columns": null,
            "grid_auto_flow": null,
            "grid_auto_rows": null,
            "grid_column": null,
            "grid_gap": null,
            "grid_row": null,
            "grid_template_areas": null,
            "grid_template_columns": null,
            "grid_template_rows": null,
            "height": null,
            "justify_content": null,
            "justify_items": null,
            "left": null,
            "margin": null,
            "max_height": null,
            "max_width": null,
            "min_height": null,
            "min_width": null,
            "object_fit": null,
            "object_position": null,
            "order": null,
            "overflow": null,
            "overflow_x": null,
            "overflow_y": null,
            "padding": null,
            "right": null,
            "top": null,
            "visibility": null,
            "width": null
          }
        },
        "55d64610a6b64866be7e8d5847ce85bb": {
          "model_module": "@jupyter-widgets/base",
          "model_name": "LayoutModel",
          "model_module_version": "1.2.0",
          "state": {
            "_model_module": "@jupyter-widgets/base",
            "_model_module_version": "1.2.0",
            "_model_name": "LayoutModel",
            "_view_count": null,
            "_view_module": "@jupyter-widgets/base",
            "_view_module_version": "1.2.0",
            "_view_name": "LayoutView",
            "align_content": null,
            "align_items": null,
            "align_self": null,
            "border": null,
            "bottom": null,
            "display": null,
            "flex": null,
            "flex_flow": null,
            "grid_area": null,
            "grid_auto_columns": null,
            "grid_auto_flow": null,
            "grid_auto_rows": null,
            "grid_column": null,
            "grid_gap": null,
            "grid_row": null,
            "grid_template_areas": null,
            "grid_template_columns": null,
            "grid_template_rows": null,
            "height": null,
            "justify_content": null,
            "justify_items": null,
            "left": null,
            "margin": null,
            "max_height": null,
            "max_width": null,
            "min_height": null,
            "min_width": null,
            "object_fit": null,
            "object_position": null,
            "order": null,
            "overflow": null,
            "overflow_x": null,
            "overflow_y": null,
            "padding": null,
            "right": null,
            "top": null,
            "visibility": null,
            "width": null
          }
        },
        "3026c236cf464cff828b92a7795c1964": {
          "model_module": "@jupyter-widgets/controls",
          "model_name": "DescriptionStyleModel",
          "model_module_version": "1.5.0",
          "state": {
            "_model_module": "@jupyter-widgets/controls",
            "_model_module_version": "1.5.0",
            "_model_name": "DescriptionStyleModel",
            "_view_count": null,
            "_view_module": "@jupyter-widgets/base",
            "_view_module_version": "1.2.0",
            "_view_name": "StyleView",
            "description_width": ""
          }
        },
        "eea27e0dd54340b8901c323bc3896066": {
          "model_module": "@jupyter-widgets/base",
          "model_name": "LayoutModel",
          "model_module_version": "1.2.0",
          "state": {
            "_model_module": "@jupyter-widgets/base",
            "_model_module_version": "1.2.0",
            "_model_name": "LayoutModel",
            "_view_count": null,
            "_view_module": "@jupyter-widgets/base",
            "_view_module_version": "1.2.0",
            "_view_name": "LayoutView",
            "align_content": null,
            "align_items": null,
            "align_self": null,
            "border": null,
            "bottom": null,
            "display": null,
            "flex": null,
            "flex_flow": null,
            "grid_area": null,
            "grid_auto_columns": null,
            "grid_auto_flow": null,
            "grid_auto_rows": null,
            "grid_column": null,
            "grid_gap": null,
            "grid_row": null,
            "grid_template_areas": null,
            "grid_template_columns": null,
            "grid_template_rows": null,
            "height": null,
            "justify_content": null,
            "justify_items": null,
            "left": null,
            "margin": null,
            "max_height": null,
            "max_width": null,
            "min_height": null,
            "min_width": null,
            "object_fit": null,
            "object_position": null,
            "order": null,
            "overflow": null,
            "overflow_x": null,
            "overflow_y": null,
            "padding": null,
            "right": null,
            "top": null,
            "visibility": null,
            "width": null
          }
        },
        "24d9a21c02d14bcd93578e22c4d8be95": {
          "model_module": "@jupyter-widgets/controls",
          "model_name": "ProgressStyleModel",
          "model_module_version": "1.5.0",
          "state": {
            "_model_module": "@jupyter-widgets/controls",
            "_model_module_version": "1.5.0",
            "_model_name": "ProgressStyleModel",
            "_view_count": null,
            "_view_module": "@jupyter-widgets/base",
            "_view_module_version": "1.2.0",
            "_view_name": "StyleView",
            "bar_color": null,
            "description_width": ""
          }
        },
        "9add681a15ed4c1ab6acb72ce7caf9b3": {
          "model_module": "@jupyter-widgets/base",
          "model_name": "LayoutModel",
          "model_module_version": "1.2.0",
          "state": {
            "_model_module": "@jupyter-widgets/base",
            "_model_module_version": "1.2.0",
            "_model_name": "LayoutModel",
            "_view_count": null,
            "_view_module": "@jupyter-widgets/base",
            "_view_module_version": "1.2.0",
            "_view_name": "LayoutView",
            "align_content": null,
            "align_items": null,
            "align_self": null,
            "border": null,
            "bottom": null,
            "display": null,
            "flex": null,
            "flex_flow": null,
            "grid_area": null,
            "grid_auto_columns": null,
            "grid_auto_flow": null,
            "grid_auto_rows": null,
            "grid_column": null,
            "grid_gap": null,
            "grid_row": null,
            "grid_template_areas": null,
            "grid_template_columns": null,
            "grid_template_rows": null,
            "height": null,
            "justify_content": null,
            "justify_items": null,
            "left": null,
            "margin": null,
            "max_height": null,
            "max_width": null,
            "min_height": null,
            "min_width": null,
            "object_fit": null,
            "object_position": null,
            "order": null,
            "overflow": null,
            "overflow_x": null,
            "overflow_y": null,
            "padding": null,
            "right": null,
            "top": null,
            "visibility": null,
            "width": null
          }
        },
        "86bbaaea76174a88a58d9cd53898eb98": {
          "model_module": "@jupyter-widgets/controls",
          "model_name": "DescriptionStyleModel",
          "model_module_version": "1.5.0",
          "state": {
            "_model_module": "@jupyter-widgets/controls",
            "_model_module_version": "1.5.0",
            "_model_name": "DescriptionStyleModel",
            "_view_count": null,
            "_view_module": "@jupyter-widgets/base",
            "_view_module_version": "1.2.0",
            "_view_name": "StyleView",
            "description_width": ""
          }
        },
        "52f7cf12ed8648599ae9b8a3ffe4f3d7": {
          "model_module": "@jupyter-widgets/controls",
          "model_name": "HBoxModel",
          "model_module_version": "1.5.0",
          "state": {
            "_dom_classes": [],
            "_model_module": "@jupyter-widgets/controls",
            "_model_module_version": "1.5.0",
            "_model_name": "HBoxModel",
            "_view_count": null,
            "_view_module": "@jupyter-widgets/controls",
            "_view_module_version": "1.5.0",
            "_view_name": "HBoxView",
            "box_style": "",
            "children": [
              "IPY_MODEL_2a5fa82683e64a91a80d6337dd2cd753",
              "IPY_MODEL_637a89ba5014422c9a13479684aa8dc7",
              "IPY_MODEL_69cc5e26eac442689c41ffe028b27b3f"
            ],
            "layout": "IPY_MODEL_01ae23ea35104ce5a2d2f7590a3dfffc"
          }
        },
        "2a5fa82683e64a91a80d6337dd2cd753": {
          "model_module": "@jupyter-widgets/controls",
          "model_name": "HTMLModel",
          "model_module_version": "1.5.0",
          "state": {
            "_dom_classes": [],
            "_model_module": "@jupyter-widgets/controls",
            "_model_module_version": "1.5.0",
            "_model_name": "HTMLModel",
            "_view_count": null,
            "_view_module": "@jupyter-widgets/controls",
            "_view_module_version": "1.5.0",
            "_view_name": "HTMLView",
            "description": "",
            "description_tooltip": null,
            "layout": "IPY_MODEL_8094e372f8ef4d80a9b682e90f9f6b12",
            "placeholder": "​",
            "style": "IPY_MODEL_761124f681a9400abe59283258fcdf2e",
            "value": "vocab.txt: 100%"
          }
        },
        "637a89ba5014422c9a13479684aa8dc7": {
          "model_module": "@jupyter-widgets/controls",
          "model_name": "FloatProgressModel",
          "model_module_version": "1.5.0",
          "state": {
            "_dom_classes": [],
            "_model_module": "@jupyter-widgets/controls",
            "_model_module_version": "1.5.0",
            "_model_name": "FloatProgressModel",
            "_view_count": null,
            "_view_module": "@jupyter-widgets/controls",
            "_view_module_version": "1.5.0",
            "_view_name": "ProgressView",
            "bar_style": "success",
            "description": "",
            "description_tooltip": null,
            "layout": "IPY_MODEL_cc4a0aed4f81498bbce1b464d3869698",
            "max": 225062,
            "min": 0,
            "orientation": "horizontal",
            "style": "IPY_MODEL_c8588e93a06e423ea92254971955d431",
            "value": 225062
          }
        },
        "69cc5e26eac442689c41ffe028b27b3f": {
          "model_module": "@jupyter-widgets/controls",
          "model_name": "HTMLModel",
          "model_module_version": "1.5.0",
          "state": {
            "_dom_classes": [],
            "_model_module": "@jupyter-widgets/controls",
            "_model_module_version": "1.5.0",
            "_model_name": "HTMLModel",
            "_view_count": null,
            "_view_module": "@jupyter-widgets/controls",
            "_view_module_version": "1.5.0",
            "_view_name": "HTMLView",
            "description": "",
            "description_tooltip": null,
            "layout": "IPY_MODEL_ee337e9874c04f828a426837206e85d7",
            "placeholder": "​",
            "style": "IPY_MODEL_d3ab5ae0444547028b209708dab4be75",
            "value": " 225k/225k [00:00&lt;00:00, 6.30MB/s]"
          }
        },
        "01ae23ea35104ce5a2d2f7590a3dfffc": {
          "model_module": "@jupyter-widgets/base",
          "model_name": "LayoutModel",
          "model_module_version": "1.2.0",
          "state": {
            "_model_module": "@jupyter-widgets/base",
            "_model_module_version": "1.2.0",
            "_model_name": "LayoutModel",
            "_view_count": null,
            "_view_module": "@jupyter-widgets/base",
            "_view_module_version": "1.2.0",
            "_view_name": "LayoutView",
            "align_content": null,
            "align_items": null,
            "align_self": null,
            "border": null,
            "bottom": null,
            "display": null,
            "flex": null,
            "flex_flow": null,
            "grid_area": null,
            "grid_auto_columns": null,
            "grid_auto_flow": null,
            "grid_auto_rows": null,
            "grid_column": null,
            "grid_gap": null,
            "grid_row": null,
            "grid_template_areas": null,
            "grid_template_columns": null,
            "grid_template_rows": null,
            "height": null,
            "justify_content": null,
            "justify_items": null,
            "left": null,
            "margin": null,
            "max_height": null,
            "max_width": null,
            "min_height": null,
            "min_width": null,
            "object_fit": null,
            "object_position": null,
            "order": null,
            "overflow": null,
            "overflow_x": null,
            "overflow_y": null,
            "padding": null,
            "right": null,
            "top": null,
            "visibility": null,
            "width": null
          }
        },
        "8094e372f8ef4d80a9b682e90f9f6b12": {
          "model_module": "@jupyter-widgets/base",
          "model_name": "LayoutModel",
          "model_module_version": "1.2.0",
          "state": {
            "_model_module": "@jupyter-widgets/base",
            "_model_module_version": "1.2.0",
            "_model_name": "LayoutModel",
            "_view_count": null,
            "_view_module": "@jupyter-widgets/base",
            "_view_module_version": "1.2.0",
            "_view_name": "LayoutView",
            "align_content": null,
            "align_items": null,
            "align_self": null,
            "border": null,
            "bottom": null,
            "display": null,
            "flex": null,
            "flex_flow": null,
            "grid_area": null,
            "grid_auto_columns": null,
            "grid_auto_flow": null,
            "grid_auto_rows": null,
            "grid_column": null,
            "grid_gap": null,
            "grid_row": null,
            "grid_template_areas": null,
            "grid_template_columns": null,
            "grid_template_rows": null,
            "height": null,
            "justify_content": null,
            "justify_items": null,
            "left": null,
            "margin": null,
            "max_height": null,
            "max_width": null,
            "min_height": null,
            "min_width": null,
            "object_fit": null,
            "object_position": null,
            "order": null,
            "overflow": null,
            "overflow_x": null,
            "overflow_y": null,
            "padding": null,
            "right": null,
            "top": null,
            "visibility": null,
            "width": null
          }
        },
        "761124f681a9400abe59283258fcdf2e": {
          "model_module": "@jupyter-widgets/controls",
          "model_name": "DescriptionStyleModel",
          "model_module_version": "1.5.0",
          "state": {
            "_model_module": "@jupyter-widgets/controls",
            "_model_module_version": "1.5.0",
            "_model_name": "DescriptionStyleModel",
            "_view_count": null,
            "_view_module": "@jupyter-widgets/base",
            "_view_module_version": "1.2.0",
            "_view_name": "StyleView",
            "description_width": ""
          }
        },
        "cc4a0aed4f81498bbce1b464d3869698": {
          "model_module": "@jupyter-widgets/base",
          "model_name": "LayoutModel",
          "model_module_version": "1.2.0",
          "state": {
            "_model_module": "@jupyter-widgets/base",
            "_model_module_version": "1.2.0",
            "_model_name": "LayoutModel",
            "_view_count": null,
            "_view_module": "@jupyter-widgets/base",
            "_view_module_version": "1.2.0",
            "_view_name": "LayoutView",
            "align_content": null,
            "align_items": null,
            "align_self": null,
            "border": null,
            "bottom": null,
            "display": null,
            "flex": null,
            "flex_flow": null,
            "grid_area": null,
            "grid_auto_columns": null,
            "grid_auto_flow": null,
            "grid_auto_rows": null,
            "grid_column": null,
            "grid_gap": null,
            "grid_row": null,
            "grid_template_areas": null,
            "grid_template_columns": null,
            "grid_template_rows": null,
            "height": null,
            "justify_content": null,
            "justify_items": null,
            "left": null,
            "margin": null,
            "max_height": null,
            "max_width": null,
            "min_height": null,
            "min_width": null,
            "object_fit": null,
            "object_position": null,
            "order": null,
            "overflow": null,
            "overflow_x": null,
            "overflow_y": null,
            "padding": null,
            "right": null,
            "top": null,
            "visibility": null,
            "width": null
          }
        },
        "c8588e93a06e423ea92254971955d431": {
          "model_module": "@jupyter-widgets/controls",
          "model_name": "ProgressStyleModel",
          "model_module_version": "1.5.0",
          "state": {
            "_model_module": "@jupyter-widgets/controls",
            "_model_module_version": "1.5.0",
            "_model_name": "ProgressStyleModel",
            "_view_count": null,
            "_view_module": "@jupyter-widgets/base",
            "_view_module_version": "1.2.0",
            "_view_name": "StyleView",
            "bar_color": null,
            "description_width": ""
          }
        },
        "ee337e9874c04f828a426837206e85d7": {
          "model_module": "@jupyter-widgets/base",
          "model_name": "LayoutModel",
          "model_module_version": "1.2.0",
          "state": {
            "_model_module": "@jupyter-widgets/base",
            "_model_module_version": "1.2.0",
            "_model_name": "LayoutModel",
            "_view_count": null,
            "_view_module": "@jupyter-widgets/base",
            "_view_module_version": "1.2.0",
            "_view_name": "LayoutView",
            "align_content": null,
            "align_items": null,
            "align_self": null,
            "border": null,
            "bottom": null,
            "display": null,
            "flex": null,
            "flex_flow": null,
            "grid_area": null,
            "grid_auto_columns": null,
            "grid_auto_flow": null,
            "grid_auto_rows": null,
            "grid_column": null,
            "grid_gap": null,
            "grid_row": null,
            "grid_template_areas": null,
            "grid_template_columns": null,
            "grid_template_rows": null,
            "height": null,
            "justify_content": null,
            "justify_items": null,
            "left": null,
            "margin": null,
            "max_height": null,
            "max_width": null,
            "min_height": null,
            "min_width": null,
            "object_fit": null,
            "object_position": null,
            "order": null,
            "overflow": null,
            "overflow_x": null,
            "overflow_y": null,
            "padding": null,
            "right": null,
            "top": null,
            "visibility": null,
            "width": null
          }
        },
        "d3ab5ae0444547028b209708dab4be75": {
          "model_module": "@jupyter-widgets/controls",
          "model_name": "DescriptionStyleModel",
          "model_module_version": "1.5.0",
          "state": {
            "_model_module": "@jupyter-widgets/controls",
            "_model_module_version": "1.5.0",
            "_model_name": "DescriptionStyleModel",
            "_view_count": null,
            "_view_module": "@jupyter-widgets/base",
            "_view_module_version": "1.2.0",
            "_view_name": "StyleView",
            "description_width": ""
          }
        },
        "b2e9a4a9830747e7b3a0d8b74fbb7180": {
          "model_module": "@jupyter-widgets/controls",
          "model_name": "HBoxModel",
          "model_module_version": "1.5.0",
          "state": {
            "_dom_classes": [],
            "_model_module": "@jupyter-widgets/controls",
            "_model_module_version": "1.5.0",
            "_model_name": "HBoxModel",
            "_view_count": null,
            "_view_module": "@jupyter-widgets/controls",
            "_view_module_version": "1.5.0",
            "_view_name": "HBoxView",
            "box_style": "",
            "children": [
              "IPY_MODEL_32a03c93dd1c4fb88140da1da1aa0d49",
              "IPY_MODEL_1ab3b3fc9b8b4747b81629d8a7f34605",
              "IPY_MODEL_505a4a9ae63a4279aa543ddbeb6f602d"
            ],
            "layout": "IPY_MODEL_f1e96be3c5064653a4b02eb34acdd9ae"
          }
        },
        "32a03c93dd1c4fb88140da1da1aa0d49": {
          "model_module": "@jupyter-widgets/controls",
          "model_name": "HTMLModel",
          "model_module_version": "1.5.0",
          "state": {
            "_dom_classes": [],
            "_model_module": "@jupyter-widgets/controls",
            "_model_module_version": "1.5.0",
            "_model_name": "HTMLModel",
            "_view_count": null,
            "_view_module": "@jupyter-widgets/controls",
            "_view_module_version": "1.5.0",
            "_view_name": "HTMLView",
            "description": "",
            "description_tooltip": null,
            "layout": "IPY_MODEL_cf0c68fe11b84a8ab28416ffce828a0d",
            "placeholder": "​",
            "style": "IPY_MODEL_75469c9953a14237bc64bd33aca767de",
            "value": "pytorch_model.bin: 100%"
          }
        },
        "1ab3b3fc9b8b4747b81629d8a7f34605": {
          "model_module": "@jupyter-widgets/controls",
          "model_name": "FloatProgressModel",
          "model_module_version": "1.5.0",
          "state": {
            "_dom_classes": [],
            "_model_module": "@jupyter-widgets/controls",
            "_model_module_version": "1.5.0",
            "_model_name": "FloatProgressModel",
            "_view_count": null,
            "_view_module": "@jupyter-widgets/controls",
            "_view_module_version": "1.5.0",
            "_view_name": "ProgressView",
            "bar_style": "success",
            "description": "",
            "description_tooltip": null,
            "layout": "IPY_MODEL_54706444329146a8868c771434ab7a7e",
            "max": 440474434,
            "min": 0,
            "orientation": "horizontal",
            "style": "IPY_MODEL_910af62b2c414995ac2c249f5d3a7495",
            "value": 440474434
          }
        },
        "505a4a9ae63a4279aa543ddbeb6f602d": {
          "model_module": "@jupyter-widgets/controls",
          "model_name": "HTMLModel",
          "model_module_version": "1.5.0",
          "state": {
            "_dom_classes": [],
            "_model_module": "@jupyter-widgets/controls",
            "_model_module_version": "1.5.0",
            "_model_name": "HTMLModel",
            "_view_count": null,
            "_view_module": "@jupyter-widgets/controls",
            "_view_module_version": "1.5.0",
            "_view_name": "HTMLView",
            "description": "",
            "description_tooltip": null,
            "layout": "IPY_MODEL_14cb66846c43480da7a7d08f87137481",
            "placeholder": "​",
            "style": "IPY_MODEL_9c0e4372da574e8b9feb2d1b859a283c",
            "value": " 440M/440M [00:06&lt;00:00, 76.2MB/s]"
          }
        },
        "f1e96be3c5064653a4b02eb34acdd9ae": {
          "model_module": "@jupyter-widgets/base",
          "model_name": "LayoutModel",
          "model_module_version": "1.2.0",
          "state": {
            "_model_module": "@jupyter-widgets/base",
            "_model_module_version": "1.2.0",
            "_model_name": "LayoutModel",
            "_view_count": null,
            "_view_module": "@jupyter-widgets/base",
            "_view_module_version": "1.2.0",
            "_view_name": "LayoutView",
            "align_content": null,
            "align_items": null,
            "align_self": null,
            "border": null,
            "bottom": null,
            "display": null,
            "flex": null,
            "flex_flow": null,
            "grid_area": null,
            "grid_auto_columns": null,
            "grid_auto_flow": null,
            "grid_auto_rows": null,
            "grid_column": null,
            "grid_gap": null,
            "grid_row": null,
            "grid_template_areas": null,
            "grid_template_columns": null,
            "grid_template_rows": null,
            "height": null,
            "justify_content": null,
            "justify_items": null,
            "left": null,
            "margin": null,
            "max_height": null,
            "max_width": null,
            "min_height": null,
            "min_width": null,
            "object_fit": null,
            "object_position": null,
            "order": null,
            "overflow": null,
            "overflow_x": null,
            "overflow_y": null,
            "padding": null,
            "right": null,
            "top": null,
            "visibility": null,
            "width": null
          }
        },
        "cf0c68fe11b84a8ab28416ffce828a0d": {
          "model_module": "@jupyter-widgets/base",
          "model_name": "LayoutModel",
          "model_module_version": "1.2.0",
          "state": {
            "_model_module": "@jupyter-widgets/base",
            "_model_module_version": "1.2.0",
            "_model_name": "LayoutModel",
            "_view_count": null,
            "_view_module": "@jupyter-widgets/base",
            "_view_module_version": "1.2.0",
            "_view_name": "LayoutView",
            "align_content": null,
            "align_items": null,
            "align_self": null,
            "border": null,
            "bottom": null,
            "display": null,
            "flex": null,
            "flex_flow": null,
            "grid_area": null,
            "grid_auto_columns": null,
            "grid_auto_flow": null,
            "grid_auto_rows": null,
            "grid_column": null,
            "grid_gap": null,
            "grid_row": null,
            "grid_template_areas": null,
            "grid_template_columns": null,
            "grid_template_rows": null,
            "height": null,
            "justify_content": null,
            "justify_items": null,
            "left": null,
            "margin": null,
            "max_height": null,
            "max_width": null,
            "min_height": null,
            "min_width": null,
            "object_fit": null,
            "object_position": null,
            "order": null,
            "overflow": null,
            "overflow_x": null,
            "overflow_y": null,
            "padding": null,
            "right": null,
            "top": null,
            "visibility": null,
            "width": null
          }
        },
        "75469c9953a14237bc64bd33aca767de": {
          "model_module": "@jupyter-widgets/controls",
          "model_name": "DescriptionStyleModel",
          "model_module_version": "1.5.0",
          "state": {
            "_model_module": "@jupyter-widgets/controls",
            "_model_module_version": "1.5.0",
            "_model_name": "DescriptionStyleModel",
            "_view_count": null,
            "_view_module": "@jupyter-widgets/base",
            "_view_module_version": "1.2.0",
            "_view_name": "StyleView",
            "description_width": ""
          }
        },
        "54706444329146a8868c771434ab7a7e": {
          "model_module": "@jupyter-widgets/base",
          "model_name": "LayoutModel",
          "model_module_version": "1.2.0",
          "state": {
            "_model_module": "@jupyter-widgets/base",
            "_model_module_version": "1.2.0",
            "_model_name": "LayoutModel",
            "_view_count": null,
            "_view_module": "@jupyter-widgets/base",
            "_view_module_version": "1.2.0",
            "_view_name": "LayoutView",
            "align_content": null,
            "align_items": null,
            "align_self": null,
            "border": null,
            "bottom": null,
            "display": null,
            "flex": null,
            "flex_flow": null,
            "grid_area": null,
            "grid_auto_columns": null,
            "grid_auto_flow": null,
            "grid_auto_rows": null,
            "grid_column": null,
            "grid_gap": null,
            "grid_row": null,
            "grid_template_areas": null,
            "grid_template_columns": null,
            "grid_template_rows": null,
            "height": null,
            "justify_content": null,
            "justify_items": null,
            "left": null,
            "margin": null,
            "max_height": null,
            "max_width": null,
            "min_height": null,
            "min_width": null,
            "object_fit": null,
            "object_position": null,
            "order": null,
            "overflow": null,
            "overflow_x": null,
            "overflow_y": null,
            "padding": null,
            "right": null,
            "top": null,
            "visibility": null,
            "width": null
          }
        },
        "910af62b2c414995ac2c249f5d3a7495": {
          "model_module": "@jupyter-widgets/controls",
          "model_name": "ProgressStyleModel",
          "model_module_version": "1.5.0",
          "state": {
            "_model_module": "@jupyter-widgets/controls",
            "_model_module_version": "1.5.0",
            "_model_name": "ProgressStyleModel",
            "_view_count": null,
            "_view_module": "@jupyter-widgets/base",
            "_view_module_version": "1.2.0",
            "_view_name": "StyleView",
            "bar_color": null,
            "description_width": ""
          }
        },
        "14cb66846c43480da7a7d08f87137481": {
          "model_module": "@jupyter-widgets/base",
          "model_name": "LayoutModel",
          "model_module_version": "1.2.0",
          "state": {
            "_model_module": "@jupyter-widgets/base",
            "_model_module_version": "1.2.0",
            "_model_name": "LayoutModel",
            "_view_count": null,
            "_view_module": "@jupyter-widgets/base",
            "_view_module_version": "1.2.0",
            "_view_name": "LayoutView",
            "align_content": null,
            "align_items": null,
            "align_self": null,
            "border": null,
            "bottom": null,
            "display": null,
            "flex": null,
            "flex_flow": null,
            "grid_area": null,
            "grid_auto_columns": null,
            "grid_auto_flow": null,
            "grid_auto_rows": null,
            "grid_column": null,
            "grid_gap": null,
            "grid_row": null,
            "grid_template_areas": null,
            "grid_template_columns": null,
            "grid_template_rows": null,
            "height": null,
            "justify_content": null,
            "justify_items": null,
            "left": null,
            "margin": null,
            "max_height": null,
            "max_width": null,
            "min_height": null,
            "min_width": null,
            "object_fit": null,
            "object_position": null,
            "order": null,
            "overflow": null,
            "overflow_x": null,
            "overflow_y": null,
            "padding": null,
            "right": null,
            "top": null,
            "visibility": null,
            "width": null
          }
        },
        "9c0e4372da574e8b9feb2d1b859a283c": {
          "model_module": "@jupyter-widgets/controls",
          "model_name": "DescriptionStyleModel",
          "model_module_version": "1.5.0",
          "state": {
            "_model_module": "@jupyter-widgets/controls",
            "_model_module_version": "1.5.0",
            "_model_name": "DescriptionStyleModel",
            "_view_count": null,
            "_view_module": "@jupyter-widgets/base",
            "_view_module_version": "1.2.0",
            "_view_name": "StyleView",
            "description_width": ""
          }
        }
      }
    }
  },
  "cells": [
    {
      "cell_type": "code",
      "source": [
        "!pip install torch_geometric"
      ],
      "metadata": {
        "colab": {
          "base_uri": "https://localhost:8080/"
        },
        "id": "T99F9o_Eu37s",
        "outputId": "5fe925c4-3c9b-4df7-dcd8-0c61288225ec"
      },
      "execution_count": 1,
      "outputs": [
        {
          "output_type": "stream",
          "name": "stdout",
          "text": [
            "Requirement already satisfied: torch_geometric in /usr/local/lib/python3.10/dist-packages (2.6.1)\n",
            "Requirement already satisfied: aiohttp in /usr/local/lib/python3.10/dist-packages (from torch_geometric) (3.11.2)\n",
            "Requirement already satisfied: fsspec in /usr/local/lib/python3.10/dist-packages (from torch_geometric) (2024.10.0)\n",
            "Requirement already satisfied: jinja2 in /usr/local/lib/python3.10/dist-packages (from torch_geometric) (3.1.4)\n",
            "Requirement already satisfied: numpy in /usr/local/lib/python3.10/dist-packages (from torch_geometric) (1.26.4)\n",
            "Requirement already satisfied: psutil>=5.8.0 in /usr/local/lib/python3.10/dist-packages (from torch_geometric) (5.9.5)\n",
            "Requirement already satisfied: pyparsing in /usr/local/lib/python3.10/dist-packages (from torch_geometric) (3.2.0)\n",
            "Requirement already satisfied: requests in /usr/local/lib/python3.10/dist-packages (from torch_geometric) (2.32.3)\n",
            "Requirement already satisfied: tqdm in /usr/local/lib/python3.10/dist-packages (from torch_geometric) (4.66.6)\n",
            "Requirement already satisfied: aiohappyeyeballs>=2.3.0 in /usr/local/lib/python3.10/dist-packages (from aiohttp->torch_geometric) (2.4.3)\n",
            "Requirement already satisfied: aiosignal>=1.1.2 in /usr/local/lib/python3.10/dist-packages (from aiohttp->torch_geometric) (1.3.1)\n",
            "Requirement already satisfied: attrs>=17.3.0 in /usr/local/lib/python3.10/dist-packages (from aiohttp->torch_geometric) (24.2.0)\n",
            "Requirement already satisfied: frozenlist>=1.1.1 in /usr/local/lib/python3.10/dist-packages (from aiohttp->torch_geometric) (1.5.0)\n",
            "Requirement already satisfied: multidict<7.0,>=4.5 in /usr/local/lib/python3.10/dist-packages (from aiohttp->torch_geometric) (6.1.0)\n",
            "Requirement already satisfied: propcache>=0.2.0 in /usr/local/lib/python3.10/dist-packages (from aiohttp->torch_geometric) (0.2.0)\n",
            "Requirement already satisfied: yarl<2.0,>=1.17.0 in /usr/local/lib/python3.10/dist-packages (from aiohttp->torch_geometric) (1.17.2)\n",
            "Requirement already satisfied: async-timeout<6.0,>=4.0 in /usr/local/lib/python3.10/dist-packages (from aiohttp->torch_geometric) (4.0.3)\n",
            "Requirement already satisfied: MarkupSafe>=2.0 in /usr/local/lib/python3.10/dist-packages (from jinja2->torch_geometric) (3.0.2)\n",
            "Requirement already satisfied: charset-normalizer<4,>=2 in /usr/local/lib/python3.10/dist-packages (from requests->torch_geometric) (3.4.0)\n",
            "Requirement already satisfied: idna<4,>=2.5 in /usr/local/lib/python3.10/dist-packages (from requests->torch_geometric) (3.10)\n",
            "Requirement already satisfied: urllib3<3,>=1.21.1 in /usr/local/lib/python3.10/dist-packages (from requests->torch_geometric) (2.2.3)\n",
            "Requirement already satisfied: certifi>=2017.4.17 in /usr/local/lib/python3.10/dist-packages (from requests->torch_geometric) (2024.8.30)\n",
            "Requirement already satisfied: typing-extensions>=4.1.0 in /usr/local/lib/python3.10/dist-packages (from multidict<7.0,>=4.5->aiohttp->torch_geometric) (4.12.2)\n"
          ]
        }
      ]
    },
    {
      "cell_type": "code",
      "execution_count": 2,
      "metadata": {
        "id": "TZmjhBzVzHJ6"
      },
      "outputs": [],
      "source": [
        "import json"
      ]
    },
    {
      "cell_type": "code",
      "source": [
        "hetnet_path = '/content/drive/MyDrive/KOBBY/Datasets/hetionet-v1.0.json'\n",
        "\n",
        "with open(hetnet_path, 'r') as file:\n",
        "  data = json.load(file)"
      ],
      "metadata": {
        "id": "6Tcdl1izzif0"
      },
      "execution_count": 3,
      "outputs": []
    },
    {
      "cell_type": "code",
      "source": [
        "import pandas as pd\n",
        "\n",
        "nodes = data['nodes']\n",
        "edges = data['edges']\n",
        "\n",
        "nodes_df = pd.DataFrame(nodes)\n",
        "edges_df = pd.DataFrame(edges)\n",
        "\n",
        "# nodes_red = nodes_df[nodes_df['kind'].isin(['Side Effect', 'Disease', 'Symptom', 'Compound'])].reset_index(drop=True)\n",
        "# print(f'Nodes: {nodes_red.shape}')\n",
        "\n",
        "# valid_nodes = set(nodes_red['identifier'])\n",
        "\n",
        "edges_df['s_id'] = edges_df['source_id'].apply(lambda x: x[1])\n",
        "edges_df['t_id'] = edges_df['target_id'].apply(lambda x: x[1])\n",
        "\n",
        "# filtered_edges = edges_df[\n",
        "#     edges_df['s_id'].isin(valid_nodes) &\n",
        "#     edges_df['t_id'].isin(valid_nodes)\n",
        "# ]\n",
        "# print(f\"Edges: {filtered_edges.shape}\")"
      ],
      "metadata": {
        "id": "zQnmw8CJbVIW"
      },
      "execution_count": 4,
      "outputs": []
    },
    {
      "cell_type": "code",
      "source": [
        "nodes_df.shape, edges_df.shape"
      ],
      "metadata": {
        "colab": {
          "base_uri": "https://localhost:8080/"
        },
        "id": "nTmD5U6GXdbu",
        "outputId": "4f052a4a-8dc0-47c8-850a-af5660c39af8"
      },
      "execution_count": 5,
      "outputs": [
        {
          "output_type": "execute_result",
          "data": {
            "text/plain": [
              "((47031, 4), (2250197, 7))"
            ]
          },
          "metadata": {},
          "execution_count": 5
        }
      ]
    },
    {
      "cell_type": "code",
      "source": [
        "nodes_df['kind'].unique()"
      ],
      "metadata": {
        "colab": {
          "base_uri": "https://localhost:8080/"
        },
        "id": "u5mJjHWzO0Aw",
        "outputId": "096f6ed4-7d2a-4022-f209-c3c0a6523a6c"
      },
      "execution_count": 6,
      "outputs": [
        {
          "output_type": "execute_result",
          "data": {
            "text/plain": [
              "array(['Molecular Function', 'Side Effect', 'Gene', 'Biological Process',\n",
              "       'Compound', 'Pathway', 'Anatomy', 'Cellular Component', 'Symptom',\n",
              "       'Disease', 'Pharmacologic Class'], dtype=object)"
            ]
          },
          "metadata": {},
          "execution_count": 6
        }
      ]
    },
    {
      "cell_type": "code",
      "source": [
        "edges_df['kind'].unique()"
      ],
      "metadata": {
        "colab": {
          "base_uri": "https://localhost:8080/"
        },
        "id": "3Q6JMsyOXTom",
        "outputId": "00bf3e55-9a57-4ff3-8ff0-9e0819160b65"
      },
      "execution_count": 7,
      "outputs": [
        {
          "output_type": "execute_result",
          "data": {
            "text/plain": [
              "array(['upregulates', 'expresses', 'interacts', 'participates',\n",
              "       'downregulates', 'causes', 'binds', 'regulates', 'associates',\n",
              "       'covaries', 'localizes', 'resembles', 'treats', 'includes',\n",
              "       'presents', 'palliates'], dtype=object)"
            ]
          },
          "metadata": {},
          "execution_count": 7
        }
      ]
    },
    {
      "cell_type": "code",
      "source": [
        "nodes_df.shape"
      ],
      "metadata": {
        "colab": {
          "base_uri": "https://localhost:8080/"
        },
        "id": "cvqmn_eDTFdC",
        "outputId": "125d52e6-bccd-4985-c33e-66839147875a"
      },
      "execution_count": 8,
      "outputs": [
        {
          "output_type": "execute_result",
          "data": {
            "text/plain": [
              "(47031, 4)"
            ]
          },
          "metadata": {},
          "execution_count": 8
        }
      ]
    },
    {
      "cell_type": "code",
      "source": [
        "import networkx as nx\n",
        "\n",
        "G = nx.DiGraph()\n",
        "\n",
        "# nodes\n",
        "for _, row in nodes_df.iterrows():\n",
        "    G.add_node(row['identifier'], kind=row['kind'], name=row['name'])\n",
        "\n",
        "# edges\n",
        "for _, row in edges_df.iterrows():\n",
        "    source = row['s_id']\n",
        "    target = row['t_id']\n",
        "    kind = row['kind']\n",
        "    direction = row['direction']\n",
        "\n",
        "    if direction == 'both':\n",
        "        G.add_edge(source, target, kind=kind)\n",
        "        G.add_edge(target, source, kind=kind)  # add reverse edge for bidirectional\n",
        "    else:\n",
        "        G.add_edge(source, target, kind=kind)"
      ],
      "metadata": {
        "id": "DCH0NlBVb39q"
      },
      "execution_count": 9,
      "outputs": []
    },
    {
      "cell_type": "code",
      "source": [
        "import matplotlib.pyplot as plt\n",
        "\n",
        "subgraph_nodes = list(G.nodes())[:100]  # first 100 nodes\n",
        "subgraph_ = G.subgraph(subgraph_nodes)\n",
        "\n",
        "pos = nx.spring_layout(subgraph_)\n",
        "plt.figure(figsize=(12, 12))\n",
        "nx.draw(subgraph_, pos, with_labels=True, node_size=50, font_size=8)\n",
        "plt.show()"
      ],
      "metadata": {
        "colab": {
          "base_uri": "https://localhost:8080/",
          "height": 1000
        },
        "id": "SvT4MV7BgvTv",
        "outputId": "5118a121-716e-47aa-cc2d-033d5a4ac09a"
      },
      "execution_count": 10,
      "outputs": [
        {
          "output_type": "display_data",
          "data": {
            "text/plain": [
              "<Figure size 1200x1200 with 1 Axes>"
            ],
            "image/png": "[encoded data removed]"
          },
          "metadata": {}
        }
      ]
    },
    {
      "cell_type": "code",
      "source": [
        "import random\n",
        "import warnings\n",
        "warnings.filterwarnings(\"ignore\")\n",
        "\n",
        "\n",
        "\n",
        "connected_components_percentage = 0.7\n",
        "unconnected_component_percentage = 0.3\n",
        "\n",
        "connected_components = list(nx.strongly_connected_components(G))\n",
        "largest_connected_component = max(connected_components, key=len)\n",
        "\n",
        "random.seed(123)\n",
        "sampled_connected_nodes = set(random.sample(largest_connected_component, int(len(largest_connected_component) * connected_components_percentage)))\n",
        "unconnected_nodes = set(G.nodes) - set.union(*map(set, connected_components))\n",
        "sampled_unconnected_nodes = set(random.sample(unconnected_nodes, int(len(unconnected_nodes) * unconnected_component_percentage)))\n",
        "\n",
        "sampled_nodes = sampled_connected_nodes | sampled_unconnected_nodes\n",
        "\n",
        "sampled_edges = [(u, v) for u, v in G.edges if u in sampled_nodes and v in sampled_nodes]\n",
        "\n",
        "H = G.subgraph(sampled_nodes).copy()\n",
        "H.add_edges_from(sampled_edges)"
      ],
      "metadata": {
        "id": "CqSmnmKMi2DE"
      },
      "execution_count": 11,
      "outputs": []
    },
    {
      "cell_type": "code",
      "source": [
        "print(\"Original number of nodes:\", G.number_of_nodes())\n",
        "print(\"Original number of edges:\", G.number_of_edges())\n",
        "print(\"Sampled number of nodes:\", H.number_of_nodes())\n",
        "print(\"Sampled number of edges:\", H.number_of_edges())"
      ],
      "metadata": {
        "colab": {
          "base_uri": "https://localhost:8080/"
        },
        "id": "SYcLsQ-XWcuO",
        "outputId": "560fc222-2dc3-4601-ed93-f4d84e3a983c"
      },
      "execution_count": 12,
      "outputs": [
        {
          "output_type": "stream",
          "name": "stdout",
          "text": [
            "Original number of nodes: 47031\n",
            "Original number of edges: 3954805\n",
            "Sampled number of nodes: 31609\n",
            "Sampled number of edges: 1985049\n"
          ]
        }
      ]
    },
    {
      "cell_type": "code",
      "source": [
        "connected_components = list(nx.weakly_connected_components(H))\n",
        "num_connected_components = len(connected_components)\n",
        "num_connected_components"
      ],
      "metadata": {
        "colab": {
          "base_uri": "https://localhost:8080/"
        },
        "id": "-8xkI9s6YJYk",
        "outputId": "10322eb7-452a-4693-d03e-53199be8f9d0"
      },
      "execution_count": 13,
      "outputs": [
        {
          "output_type": "execute_result",
          "data": {
            "text/plain": [
              "676"
            ]
          },
          "metadata": {},
          "execution_count": 13
        }
      ]
    },
    {
      "cell_type": "markdown",
      "source": [
        "- [Guilt by Association abstract](https://pubmed.ncbi.nlm.nih.gov/22479173/)"
      ],
      "metadata": {
        "id": "wOiDi20jRZMO"
      }
    },
    {
      "cell_type": "markdown",
      "source": [
        "### K-CORE"
      ],
      "metadata": {
        "id": "js1q4rAJF_Mx"
      }
    },
    {
      "cell_type": "markdown",
      "source": [
        "- NB: This cell takes longer to run."
      ],
      "metadata": {
        "id": "MtuWM8xe2fch"
      }
    },
    {
      "cell_type": "code",
      "source": [
        "k_values = range(2, 8)\n",
        "combined_k_core_nodes = set()\n",
        "\n",
        "for k in k_values:\n",
        "  k_core_subgraph = nx.k_core(H, k)\n",
        "  combined_k_core_nodes.update(k_core_subgraph.nodes())\n",
        "\n",
        "combined_k_core_subgraph = H.subgraph(combined_k_core_nodes)\n",
        "\n",
        "print(\"Combined k-core subgraph nodes:\", combined_k_core_subgraph.number_of_nodes())\n",
        "print(\"Combined k-core subgraph edges:\", combined_k_core_subgraph.number_of_edges())"
      ],
      "metadata": {
        "colab": {
          "base_uri": "https://localhost:8080/"
        },
        "id": "IuSTdDU6QG2P",
        "outputId": "17a32759-0181-4894-f87a-6ebf7cb7e5eb"
      },
      "execution_count": 14,
      "outputs": [
        {
          "output_type": "stream",
          "name": "stdout",
          "text": [
            "Combined k-core subgraph nodes: 30934\n",
            "Combined k-core subgraph edges: 1985049\n"
          ]
        }
      ]
    },
    {
      "cell_type": "code",
      "source": [
        "import matplotlib.pyplot as plt\n",
        "\n",
        "subgraph_nodes = list(combined_k_core_subgraph.nodes())[:100]  # first 100 nodes\n",
        "subgraph_ = combined_k_core_subgraph.subgraph(subgraph_nodes)\n",
        "\n",
        "pos = nx.spring_layout(subgraph_)\n",
        "plt.figure(figsize=(12, 12))\n",
        "nx.draw(subgraph_, pos, with_labels=True, node_size=50, font_size=8)\n",
        "plt.show()"
      ],
      "metadata": {
        "colab": {
          "base_uri": "https://localhost:8080/",
          "height": 1000
        },
        "id": "JgYpZvRgaIAo",
        "outputId": "0f026fb1-65e0-4c7e-d362-b3219df12657"
      },
      "execution_count": 15,
      "outputs": [
        {
          "output_type": "display_data",
          "data": {
            "text/plain": [
              "<Figure size 1200x1200 with 1 Axes>"
            ],
            "image/png": "[encoded data removed]"
          },
          "metadata": {}
        }
      ]
    },
    {
      "cell_type": "code",
      "source": [
        "nodes_df.head(4)"
      ],
      "metadata": {
        "colab": {
          "base_uri": "https://localhost:8080/",
          "height": 175
        },
        "id": "c32KhHMK0uet",
        "outputId": "a10c97fd-49fc-4c2c-8d2f-6960eb8ad90b"
      },
      "execution_count": 16,
      "outputs": [
        {
          "output_type": "execute_result",
          "data": {
            "text/plain": [
              "                 kind  identifier  \\\n",
              "0  Molecular Function  GO:0031753   \n",
              "1         Side Effect    C0023448   \n",
              "2                Gene        5345   \n",
              "3                Gene        9409   \n",
              "\n",
              "                                                name  \\\n",
              "0  endothelial differentiation G-protein coupled ...   \n",
              "1                              Lymphocytic leukaemia   \n",
              "2                                           SERPINF2   \n",
              "3                                              PEX16   \n",
              "\n",
              "                                                data  \n",
              "0  {'source': 'Gene Ontology', 'license': 'CC BY ...  \n",
              "1  {'source': 'UMLS via SIDER 4.1', 'license': 'C...  \n",
              "2  {'description': 'serpin peptidase inhibitor, c...  \n",
              "3  {'description': 'peroxisomal biogenesis factor...  "
            ],
            "text/html": [
              "\n",
              "  <div id=\"df-d15e962a-d8bd-46e9-ae75-66122770dd55\" class=\"colab-df-container\">\n",
              "    <div>\n",
              "<style scoped>\n",
              "    .dataframe tbody tr th:only-of-type {\n",
              "        vertical-align: middle;\n",
              "    }\n",
              "\n",
              "    .dataframe tbody tr th {\n",
              "        vertical-align: top;\n",
              "    }\n",
              "\n",
              "    .dataframe thead th {\n",
              "        text-align: right;\n",
              "    }\n",
              "</style>\n",
              "<table border=\"1\" class=\"dataframe\">\n",
              "  <thead>\n",
              "    <tr style=\"text-align: right;\">\n",
              "      <th></th>\n",
              "      <th>kind</th>\n",
              "      <th>identifier</th>\n",
              "      <th>name</th>\n",
              "      <th>data</th>\n",
              "    </tr>\n",
              "  </thead>\n",
              "  <tbody>\n",
              "    <tr>\n",
              "      <th>0</th>\n",
              "      <td>Molecular Function</td>\n",
              "      <td>GO:0031753</td>\n",
              "      <td>endothelial differentiation G-protein coupled ...</td>\n",
              "      <td>{'source': 'Gene Ontology', 'license': 'CC BY ...</td>\n",
              "    </tr>\n",
              "    <tr>\n",
              "      <th>1</th>\n",
              "      <td>Side Effect</td>\n",
              "      <td>C0023448</td>\n",
              "      <td>Lymphocytic leukaemia</td>\n",
              "      <td>{'source': 'UMLS via SIDER 4.1', 'license': 'C...</td>\n",
              "    </tr>\n",
              "    <tr>\n",
              "      <th>2</th>\n",
              "      <td>Gene</td>\n",
              "      <td>5345</td>\n",
              "      <td>SERPINF2</td>\n",
              "      <td>{'description': 'serpin peptidase inhibitor, c...</td>\n",
              "    </tr>\n",
              "    <tr>\n",
              "      <th>3</th>\n",
              "      <td>Gene</td>\n",
              "      <td>9409</td>\n",
              "      <td>PEX16</td>\n",
              "      <td>{'description': 'peroxisomal biogenesis factor...</td>\n",
              "    </tr>\n",
              "  </tbody>\n",
              "</table>\n",
              "</div>\n",
              "    <div class=\"colab-df-buttons\">\n",
              "\n",
              "  <div class=\"colab-df-container\">\n",
              "    <button class=\"colab-df-convert\" onclick=\"convertToInteractive('df-d15e962a-d8bd-46e9-ae75-66122770dd55')\"\n",
              "            title=\"Convert this dataframe to an interactive table.\"\n",
              "            style=\"display:none;\">\n",
              "\n",
              "  <svg xmlns=\"http://www.w3.org/2000/svg\" height=\"24px\" viewBox=\"0 -960 960 960\">\n",
              "    <path d=\"M120-120v-720h720v720H120Zm60-500h600v-160H180v160Zm220 220h160v-160H400v160Zm0 220h160v-160H400v160ZM180-400h160v-160H180v160Zm440 0h160v-160H620v160ZM180-180h160v-160H180v160Zm440 0h160v-160H620v160Z\"/>\n",
              "  </svg>\n",
              "    </button>\n",
              "\n",
              "  <style>\n",
              "    .colab-df-container {\n",
              "      display:flex;\n",
              "      gap: 12px;\n",
              "    }\n",
              "\n",
              "    .colab-df-convert {\n",
              "      background-color: #E8F0FE;\n",
              "      border: none;\n",
              "      border-radius: 50%;\n",
              "      cursor: pointer;\n",
              "      display: none;\n",
              "      fill: #1967D2;\n",
              "      height: 32px;\n",
              "      padding: 0 0 0 0;\n",
              "      width: 32px;\n",
              "    }\n",
              "\n",
              "    .colab-df-convert:hover {\n",
              "      background-color: #E2EBFA;\n",
              "      box-shadow: 0px 1px 2px rgba(60, 64, 67, 0.3), 0px 1px 3px 1px rgba(60, 64, 67, 0.15);\n",
              "      fill: #174EA6;\n",
              "    }\n",
              "\n",
              "    .colab-df-buttons div {\n",
              "      margin-bottom: 4px;\n",
              "    }\n",
              "\n",
              "    [theme=dark] .colab-df-convert {\n",
              "      background-color: #3B4455;\n",
              "      fill: #D2E3FC;\n",
              "    }\n",
              "\n",
              "    [theme=dark] .colab-df-convert:hover {\n",
              "      background-color: #434B5C;\n",
              "      box-shadow: 0px 1px 3px 1px rgba(0, 0, 0, 0.15);\n",
              "      filter: drop-shadow(0px 1px 2px rgba(0, 0, 0, 0.3));\n",
              "      fill: #FFFFFF;\n",
              "    }\n",
              "  </style>\n",
              "\n",
              "    <script>\n",
              "      const buttonEl =\n",
              "        document.querySelector('#df-d15e962a-d8bd-46e9-ae75-66122770dd55 button.colab-df-convert');\n",
              "      buttonEl.style.display =\n",
              "        google.colab.kernel.accessAllowed ? 'block' : 'none';\n",
              "\n",
              "      async function convertToInteractive(key) {\n",
              "        const element = document.querySelector('#df-d15e962a-d8bd-46e9-ae75-66122770dd55');\n",
              "        const dataTable =\n",
              "          await google.colab.kernel.invokeFunction('convertToInteractive',\n",
              "                                                    [key], {});\n",
              "        if (!dataTable) return;\n",
              "\n",
              "        const docLinkHtml = 'Like what you see? Visit the ' +\n",
              "          '<a target=\"_blank\" href=https://colab.research.google.com/notebooks/data_table.ipynb>data table notebook</a>'\n",
              "          + ' to learn more about interactive tables.';\n",
              "        element.innerHTML = '';\n",
              "        dataTable['output_type'] = 'display_data';\n",
              "        await google.colab.output.renderOutput(dataTable, element);\n",
              "        const docLink = document.createElement('div');\n",
              "        docLink.innerHTML = docLinkHtml;\n",
              "        element.appendChild(docLink);\n",
              "      }\n",
              "    </script>\n",
              "  </div>\n",
              "\n",
              "\n",
              "<div id=\"df-f8cbdb59-3db9-4b38-9b4b-63407ed4fe95\">\n",
              "  <button class=\"colab-df-quickchart\" onclick=\"quickchart('df-f8cbdb59-3db9-4b38-9b4b-63407ed4fe95')\"\n",
              "            title=\"Suggest charts\"\n",
              "            style=\"display:none;\">\n",
              "\n",
              "<svg xmlns=\"http://www.w3.org/2000/svg\" height=\"24px\"viewBox=\"0 0 24 24\"\n",
              "     width=\"24px\">\n",
              "    <g>\n",
              "        <path d=\"M19 3H5c-1.1 0-2 .9-2 2v14c0 1.1.9 2 2 2h14c1.1 0 2-.9 2-2V5c0-1.1-.9-2-2-2zM9 17H7v-7h2v7zm4 0h-2V7h2v10zm4 0h-2v-4h2v4z\"/>\n",
              "    </g>\n",
              "</svg>\n",
              "  </button>\n",
              "\n",
              "<style>\n",
              "  .colab-df-quickchart {\n",
              "      --bg-color: #E8F0FE;\n",
              "      --fill-color: #1967D2;\n",
              "      --hover-bg-color: #E2EBFA;\n",
              "      --hover-fill-color: #174EA6;\n",
              "      --disabled-fill-color: #AAA;\n",
              "      --disabled-bg-color: #DDD;\n",
              "  }\n",
              "\n",
              "  [theme=dark] .colab-df-quickchart {\n",
              "      --bg-color: #3B4455;\n",
              "      --fill-color: #D2E3FC;\n",
              "      --hover-bg-color: #434B5C;\n",
              "      --hover-fill-color: #FFFFFF;\n",
              "      --disabled-bg-color: #3B4455;\n",
              "      --disabled-fill-color: #666;\n",
              "  }\n",
              "\n",
              "  .colab-df-quickchart {\n",
              "    background-color: var(--bg-color);\n",
              "    border: none;\n",
              "    border-radius: 50%;\n",
              "    cursor: pointer;\n",
              "    display: none;\n",
              "    fill: var(--fill-color);\n",
              "    height: 32px;\n",
              "    padding: 0;\n",
              "    width: 32px;\n",
              "  }\n",
              "\n",
              "  .colab-df-quickchart:hover {\n",
              "    background-color: var(--hover-bg-color);\n",
              "    box-shadow: 0 1px 2px rgba(60, 64, 67, 0.3), 0 1px 3px 1px rgba(60, 64, 67, 0.15);\n",
              "    fill: var(--button-hover-fill-color);\n",
              "  }\n",
              "\n",
              "  .colab-df-quickchart-complete:disabled,\n",
              "  .colab-df-quickchart-complete:disabled:hover {\n",
              "    background-color: var(--disabled-bg-color);\n",
              "    fill: var(--disabled-fill-color);\n",
              "    box-shadow: none;\n",
              "  }\n",
              "\n",
              "  .colab-df-spinner {\n",
              "    border: 2px solid var(--fill-color);\n",
              "    border-color: transparent;\n",
              "    border-bottom-color: var(--fill-color);\n",
              "    animation:\n",
              "      spin 1s steps(1) infinite;\n",
              "  }\n",
              "\n",
              "  @keyframes spin {\n",
              "    0% {\n",
              "      border-color: transparent;\n",
              "      border-bottom-color: var(--fill-color);\n",
              "      border-left-color: var(--fill-color);\n",
              "    }\n",
              "    20% {\n",
              "      border-color: transparent;\n",
              "      border-left-color: var(--fill-color);\n",
              "      border-top-color: var(--fill-color);\n",
              "    }\n",
              "    30% {\n",
              "      border-color: transparent;\n",
              "      border-left-color: var(--fill-color);\n",
              "      border-top-color: var(--fill-color);\n",
              "      border-right-color: var(--fill-color);\n",
              "    }\n",
              "    40% {\n",
              "      border-color: transparent;\n",
              "      border-right-color: var(--fill-color);\n",
              "      border-top-color: var(--fill-color);\n",
              "    }\n",
              "    60% {\n",
              "      border-color: transparent;\n",
              "      border-right-color: var(--fill-color);\n",
              "    }\n",
              "    80% {\n",
              "      border-color: transparent;\n",
              "      border-right-color: var(--fill-color);\n",
              "      border-bottom-color: var(--fill-color);\n",
              "    }\n",
              "    90% {\n",
              "      border-color: transparent;\n",
              "      border-bottom-color: var(--fill-color);\n",
              "    }\n",
              "  }\n",
              "</style>\n",
              "\n",
              "  <script>\n",
              "    async function quickchart(key) {\n",
              "      const quickchartButtonEl =\n",
              "        document.querySelector('#' + key + ' button');\n",
              "      quickchartButtonEl.disabled = true;  // To prevent multiple clicks.\n",
              "      quickchartButtonEl.classList.add('colab-df-spinner');\n",
              "      try {\n",
              "        const charts = await google.colab.kernel.invokeFunction(\n",
              "            'suggestCharts', [key], {});\n",
              "      } catch (error) {\n",
              "        console.error('Error during call to suggestCharts:', error);\n",
              "      }\n",
              "      quickchartButtonEl.classList.remove('colab-df-spinner');\n",
              "      quickchartButtonEl.classList.add('colab-df-quickchart-complete');\n",
              "    }\n",
              "    (() => {\n",
              "      let quickchartButtonEl =\n",
              "        document.querySelector('#df-f8cbdb59-3db9-4b38-9b4b-63407ed4fe95 button');\n",
              "      quickchartButtonEl.style.display =\n",
              "        google.colab.kernel.accessAllowed ? 'block' : 'none';\n",
              "    })();\n",
              "  </script>\n",
              "</div>\n",
              "\n",
              "    </div>\n",
              "  </div>\n"
            ],
            "application/vnd.google.colaboratory.intrinsic+json": {
              "type": "dataframe",
              "variable_name": "nodes_df",
              "summary": "{\n  \"name\": \"nodes_df\",\n  \"rows\": 47031,\n  \"fields\": [\n    {\n      \"column\": \"kind\",\n      \"properties\": {\n        \"dtype\": \"category\",\n        \"num_unique_values\": 11,\n        \"samples\": [\n          \"Pathway\",\n          \"Molecular Function\",\n          \"Disease\"\n        ],\n        \"semantic_type\": \"\",\n        \"description\": \"\"\n      }\n    },\n    {\n      \"column\": \"identifier\",\n      \"properties\": {\n        \"dtype\": \"string\",\n        \"num_unique_values\": 47031,\n        \"samples\": [\n          \"GO:0050694\",\n          \"GO:0002831\",\n          \"GO:0016499\"\n        ],\n        \"semantic_type\": \"\",\n        \"description\": \"\"\n      }\n    },\n    {\n      \"column\": \"name\",\n      \"properties\": {\n        \"dtype\": \"string\",\n        \"num_unique_values\": 46897,\n        \"samples\": [\n          \"negative regulation of chromatin silencing at rDNA\",\n          \"ERN1\",\n          \"MSRB1\"\n        ],\n        \"semantic_type\": \"\",\n        \"description\": \"\"\n      }\n    },\n    {\n      \"column\": \"data\",\n      \"properties\": {\n        \"dtype\": \"object\",\n        \"semantic_type\": \"\",\n        \"description\": \"\"\n      }\n    }\n  ]\n}"
            }
          },
          "metadata": {},
          "execution_count": 16
        }
      ]
    },
    {
      "cell_type": "code",
      "source": [
        "### node features\n",
        "for _, row in nodes_df.iterrows():\n",
        "  node_id = row['identifier']\n",
        "  if node_id in combined_k_core_subgraph.nodes:\n",
        "    combined_k_core_subgraph.nodes[node_id]['features'] = row['data'] # dict accepted for node features."
      ],
      "metadata": {
        "id": "DwUsYp6n0hfa"
      },
      "execution_count": 17,
      "outputs": []
    },
    {
      "cell_type": "code",
      "source": [
        "i = 0\n",
        "for node in combined_k_core_subgraph.nodes(data=True):\n",
        "  print(node)\n",
        "  i += 1\n",
        "  if i == 5:\n",
        "    break"
      ],
      "metadata": {
        "colab": {
          "base_uri": "https://localhost:8080/"
        },
        "id": "y-z9RdUG1QwQ",
        "outputId": "65c87dd6-800e-4302-a8f6-83661d330b0c"
      },
      "execution_count": 18,
      "outputs": [
        {
          "output_type": "stream",
          "name": "stdout",
          "text": [
            "('GO:0031753', {'kind': 'Molecular Function', 'name': 'endothelial differentiation G-protein coupled receptor binding', 'features': {'source': 'Gene Ontology', 'license': 'CC BY 4.0', 'url': 'http://purl.obolibrary.org/obo/GO_0031753'}})\n",
            "(5345, {'kind': 'Gene', 'name': 'SERPINF2', 'features': {'description': 'serpin peptidase inhibitor, clade F (alpha-2 antiplasmin, pigment epithelium derived factor), member 2', 'source': 'Entrez Gene', 'license': 'CC0 1.0', 'url': 'http://identifiers.org/ncbigene/5345', 'chromosome': '17'}})\n",
            "(9409, {'kind': 'Gene', 'name': 'PEX16', 'features': {'description': 'peroxisomal biogenesis factor 16', 'source': 'Entrez Gene', 'license': 'CC0 1.0', 'url': 'http://identifiers.org/ncbigene/9409', 'chromosome': '11'}})\n",
            "('GO:0032474', {'kind': 'Biological Process', 'name': 'otolith morphogenesis', 'features': {'source': 'Gene Ontology', 'license': 'CC BY 4.0', 'url': 'http://purl.obolibrary.org/obo/GO_0032474'}})\n",
            "('GO:0010536', {'kind': 'Biological Process', 'name': 'positive regulation of activation of Janus kinase activity', 'features': {'source': 'Gene Ontology', 'license': 'CC BY 4.0', 'url': 'http://purl.obolibrary.org/obo/GO_0010536'}})\n"
          ]
        }
      ]
    },
    {
      "cell_type": "code",
      "source": [
        "from transformers import AutoModel, AutoTokenizer\n",
        "\n",
        "model_name = \"microsoft/BiomedNLP-PubMedBERT-base-uncased-abstract\"\n",
        "tokenizer = AutoTokenizer.from_pretrained(model_name)\n",
        "model = AutoModel.from_pretrained(model_name)"
      ],
      "metadata": {
        "colab": {
          "base_uri": "https://localhost:8080/",
          "height": 145,
          "referenced_widgets": [
            "80b66d8a1029495eb12ef59c6ab844f9",
            "f9577e5cb1804a8e9654d53dcd6328af",
            "fd9ec57c4f4841fe93fb53bb09630e4a",
            "012d3bcd402a497bbedb3e30e96af9ab",
            "b32607e5680946a7941cde1a361daebd",
            "7320fe83bc8b463c87403599cd42261e",
            "b27c59e845db4e27876f72cf58e1e7ca",
            "3d60339b9e7e4b0d8af332adffe3e583",
            "4584c97afa284a4e9870e70abef9f8c7",
            "aaef36d0500447348910a77846a7ffa5",
            "7c57fc2afd494580b9afcf458e5a83d3",
            "fa1a0917f1c646ab9fd49080031e473d",
            "80c68b217e4546589268b7d29f1fec7f",
            "2e87b3de5b484c1d8a12811654b71a6b",
            "bd65ed894efc4d959379ece2eb4f6fa6",
            "57ff8306646f4571b40230df89f5573b",
            "55d64610a6b64866be7e8d5847ce85bb",
            "3026c236cf464cff828b92a7795c1964",
            "eea27e0dd54340b8901c323bc3896066",
            "24d9a21c02d14bcd93578e22c4d8be95",
            "9add681a15ed4c1ab6acb72ce7caf9b3",
            "86bbaaea76174a88a58d9cd53898eb98",
            "52f7cf12ed8648599ae9b8a3ffe4f3d7",
            "2a5fa82683e64a91a80d6337dd2cd753",
            "637a89ba5014422c9a13479684aa8dc7",
            "69cc5e26eac442689c41ffe028b27b3f",
            "01ae23ea35104ce5a2d2f7590a3dfffc",
            "8094e372f8ef4d80a9b682e90f9f6b12",
            "761124f681a9400abe59283258fcdf2e",
            "cc4a0aed4f81498bbce1b464d3869698",
            "c8588e93a06e423ea92254971955d431",
            "ee337e9874c04f828a426837206e85d7",
            "d3ab5ae0444547028b209708dab4be75",
            "b2e9a4a9830747e7b3a0d8b74fbb7180",
            "32a03c93dd1c4fb88140da1da1aa0d49",
            "1ab3b3fc9b8b4747b81629d8a7f34605",
            "505a4a9ae63a4279aa543ddbeb6f602d",
            "f1e96be3c5064653a4b02eb34acdd9ae",
            "cf0c68fe11b84a8ab28416ffce828a0d",
            "75469c9953a14237bc64bd33aca767de",
            "54706444329146a8868c771434ab7a7e",
            "910af62b2c414995ac2c249f5d3a7495",
            "14cb66846c43480da7a7d08f87137481",
            "9c0e4372da574e8b9feb2d1b859a283c"
          ]
        },
        "id": "XbH-QjVe3gfn",
        "outputId": "57e8ce43-b153-4572-847b-90207b962f37"
      },
      "execution_count": 19,
      "outputs": [
        {
          "output_type": "display_data",
          "data": {
            "text/plain": [
              "tokenizer_config.json:   0%|          | 0.00/28.0 [00:00<?, ?B/s]"
            ],
            "application/vnd.jupyter.widget-view+json": {
              "version_major": 2,
              "version_minor": 0,
              "model_id": "80b66d8a1029495eb12ef59c6ab844f9"
            }
          },
          "metadata": {}
        },
        {
          "output_type": "display_data",
          "data": {
            "text/plain": [
              "config.json:   0%|          | 0.00/385 [00:00<?, ?B/s]"
            ],
            "application/vnd.jupyter.widget-view+json": {
              "version_major": 2,
              "version_minor": 0,
              "model_id": "fa1a0917f1c646ab9fd49080031e473d"
            }
          },
          "metadata": {}
        },
        {
          "output_type": "display_data",
          "data": {
            "text/plain": [
              "vocab.txt:   0%|          | 0.00/225k [00:00<?, ?B/s]"
            ],
            "application/vnd.jupyter.widget-view+json": {
              "version_major": 2,
              "version_minor": 0,
              "model_id": "52f7cf12ed8648599ae9b8a3ffe4f3d7"
            }
          },
          "metadata": {}
        },
        {
          "output_type": "display_data",
          "data": {
            "text/plain": [
              "pytorch_model.bin:   0%|          | 0.00/440M [00:00<?, ?B/s]"
            ],
            "application/vnd.jupyter.widget-view+json": {
              "version_major": 2,
              "version_minor": 0,
              "model_id": "b2e9a4a9830747e7b3a0d8b74fbb7180"
            }
          },
          "metadata": {}
        }
      ]
    },
    {
      "cell_type": "code",
      "source": [
        "import torch\n",
        "import torch.nn as nn\n",
        "\n",
        "target_dim = 128\n",
        "projected_embed_layer = nn.Linear(768, target_dim)\n",
        "\n",
        "def get_node_feature_embedding(text):\n",
        "  inputs = tokenizer(text, return_tensors = 'pt', truncation = True, padding = True, max_length = 512)\n",
        "  with torch.no_grad():\n",
        "    outputs = model(**inputs)\n",
        "  embedding = outputs.last_hidden_state.mean(dim = 1).squeeze()\n",
        "  return projected_embed_layer(embedding)"
      ],
      "metadata": {
        "id": "Af4FzNVR3gcZ"
      },
      "execution_count": 20,
      "outputs": []
    },
    {
      "cell_type": "markdown",
      "source": [
        "- NB: This cell(below) also takes longer to run (43 mins)"
      ],
      "metadata": {
        "id": "JQx1-khQ3vV_"
      }
    },
    {
      "cell_type": "code",
      "source": [
        "for node_id, attr in combined_k_core_subgraph.nodes(data = True):\n",
        "  text_to_encode = attr['name']\n",
        "  if 'description' in attr['features']:\n",
        "    text_to_encode += \" \" + attr['features']['description']\n",
        "  embedding = get_node_feature_embedding(text_to_encode)\n",
        "  combined_k_core_subgraph.nodes[node_id]['embedding'] = embedding"
      ],
      "metadata": {
        "id": "4YXdDsaB3gZ1"
      },
      "execution_count": 21,
      "outputs": []
    },
    {
      "cell_type": "code",
      "source": [
        "import torch\n",
        "from torch_geometric.utils import from_networkx"
      ],
      "metadata": {
        "id": "o5VADTQQikXm"
      },
      "execution_count": 22,
      "outputs": []
    },
    {
      "cell_type": "code",
      "source": [
        "pyg_data = from_networkx(combined_k_core_subgraph)\n",
        "pyg_data.x = torch.stack([combined_k_core_subgraph.nodes[node_id]['embedding'] for node_id in combined_k_core_subgraph.nodes])\n",
        "print(pyg_data)"
      ],
      "metadata": {
        "colab": {
          "base_uri": "https://localhost:8080/"
        },
        "id": "XGVeBn6jZwVG",
        "outputId": "56749a6d-460f-470b-b19c-648fa97646ff"
      },
      "execution_count": 23,
      "outputs": [
        {
          "output_type": "stream",
          "name": "stdout",
          "text": [
            "Data(edge_index=[2, 1985049], kind=[30934], name=[30934], features=[30934], embedding=[30934, 128], edge_kind=[1985049], num_nodes=30934, x=[30934, 128])\n"
          ]
        }
      ]
    },
    {
      "cell_type": "markdown",
      "source": [
        "### Processed and Saved K-Core subgraph for training"
      ],
      "metadata": {
        "id": "aENPXID8yZaZ"
      }
    },
    {
      "cell_type": "code",
      "source": [
        "!pip install torch_geometric"
      ],
      "metadata": {
        "colab": {
          "base_uri": "https://localhost:8080/"
        },
        "id": "qGZST1b6fQU2",
        "outputId": "3bf5fa6c-3fa7-4f36-c586-3f4b3d6506f3"
      },
      "execution_count": 14,
      "outputs": [
        {
          "output_type": "stream",
          "name": "stdout",
          "text": [
            "Requirement already satisfied: torch_geometric in /usr/local/lib/python3.10/dist-packages (2.6.1)\n",
            "Requirement already satisfied: aiohttp in /usr/local/lib/python3.10/dist-packages (from torch_geometric) (3.11.10)\n",
            "Requirement already satisfied: fsspec in /usr/local/lib/python3.10/dist-packages (from torch_geometric) (2024.10.0)\n",
            "Requirement already satisfied: jinja2 in /usr/local/lib/python3.10/dist-packages (from torch_geometric) (3.1.4)\n",
            "Requirement already satisfied: numpy in /usr/local/lib/python3.10/dist-packages (from torch_geometric) (1.26.4)\n",
            "Requirement already satisfied: psutil>=5.8.0 in /usr/local/lib/python3.10/dist-packages (from torch_geometric) (5.9.5)\n",
            "Requirement already satisfied: pyparsing in /usr/local/lib/python3.10/dist-packages (from torch_geometric) (3.2.0)\n",
            "Requirement already satisfied: requests in /usr/local/lib/python3.10/dist-packages (from torch_geometric) (2.32.3)\n",
            "Requirement already satisfied: tqdm in /usr/local/lib/python3.10/dist-packages (from torch_geometric) (4.66.6)\n",
            "Requirement already satisfied: aiohappyeyeballs>=2.3.0 in /usr/local/lib/python3.10/dist-packages (from aiohttp->torch_geometric) (2.4.4)\n",
            "Requirement already satisfied: aiosignal>=1.1.2 in /usr/local/lib/python3.10/dist-packages (from aiohttp->torch_geometric) (1.3.1)\n",
            "Requirement already satisfied: async-timeout<6.0,>=4.0 in /usr/local/lib/python3.10/dist-packages (from aiohttp->torch_geometric) (5.0.1)\n",
            "Requirement already satisfied: attrs>=17.3.0 in /usr/local/lib/python3.10/dist-packages (from aiohttp->torch_geometric) (24.2.0)\n",
            "Requirement already satisfied: frozenlist>=1.1.1 in /usr/local/lib/python3.10/dist-packages (from aiohttp->torch_geometric) (1.5.0)\n",
            "Requirement already satisfied: multidict<7.0,>=4.5 in /usr/local/lib/python3.10/dist-packages (from aiohttp->torch_geometric) (6.1.0)\n",
            "Requirement already satisfied: propcache>=0.2.0 in /usr/local/lib/python3.10/dist-packages (from aiohttp->torch_geometric) (0.2.1)\n",
            "Requirement already satisfied: yarl<2.0,>=1.17.0 in /usr/local/lib/python3.10/dist-packages (from aiohttp->torch_geometric) (1.18.3)\n",
            "Requirement already satisfied: MarkupSafe>=2.0 in /usr/local/lib/python3.10/dist-packages (from jinja2->torch_geometric) (3.0.2)\n",
            "Requirement already satisfied: charset-normalizer<4,>=2 in /usr/local/lib/python3.10/dist-packages (from requests->torch_geometric) (3.4.0)\n",
            "Requirement already satisfied: idna<4,>=2.5 in /usr/local/lib/python3.10/dist-packages (from requests->torch_geometric) (3.10)\n",
            "Requirement already satisfied: urllib3<3,>=1.21.1 in /usr/local/lib/python3.10/dist-packages (from requests->torch_geometric) (2.2.3)\n",
            "Requirement already satisfied: certifi>=2017.4.17 in /usr/local/lib/python3.10/dist-packages (from requests->torch_geometric) (2024.8.30)\n",
            "Requirement already satisfied: typing-extensions>=4.1.0 in /usr/local/lib/python3.10/dist-packages (from multidict<7.0,>=4.5->aiohttp->torch_geometric) (4.12.2)\n"
          ]
        }
      ]
    },
    {
      "cell_type": "code",
      "source": [
        "import torch\n",
        "import random\n",
        "from torch_geometric.utils import train_test_split_edges\n",
        "from torch_geometric.nn import SAGEConv\n",
        "import torch.nn.functional as F\n",
        "import torch.nn as nn"
      ],
      "metadata": {
        "id": "Zme0U1hZEB4l"
      },
      "execution_count": 15,
      "outputs": []
    },
    {
      "cell_type": "code",
      "source": [
        "import warnings\n",
        "warnings.filterwarnings('ignore')"
      ],
      "metadata": {
        "id": "wOZ5H6mqo7Rr"
      },
      "execution_count": 16,
      "outputs": []
    },
    {
      "cell_type": "code",
      "source": [
        "#device = torch.device('cuda' if torch.cuda.is_available() else 'cpu')"
      ],
      "metadata": {
        "id": "sjTE7jX5dnXX"
      },
      "execution_count": 17,
      "outputs": []
    },
    {
      "cell_type": "code",
      "source": [
        "graph_data = '/content/drive/MyDrive/KOBBY/Datasets/hetnet/'\n",
        "\n",
        "# torch.save(pyg_data, graph_data + \"combined_k_core_subgraph_pyg_256.pt\")\n",
        "\n",
        "#load\n",
        "pyg_data_loaded = torch.load(graph_data + \"combined_k_core_subgraph_pyg.pt\")\n",
        "print(pyg_data_loaded)"
      ],
      "metadata": {
        "id": "QCw7-PPeWiP1",
        "colab": {
          "base_uri": "https://localhost:8080/"
        },
        "outputId": "83a2e4cc-e581-44af-dc58-ec58d7cfb540"
      },
      "execution_count": 18,
      "outputs": [
        {
          "output_type": "stream",
          "name": "stdout",
          "text": [
            "Data(edge_index=[2, 1985364], kind=[30842], name=[30842], features=[30842], embedding=[30842, 128], edge_kind=[1985364], num_nodes=30842, x=[30842, 128])\n"
          ]
        }
      ]
    },
    {
      "cell_type": "code",
      "source": [
        "## This line need be run with 'TPU' runtime of google colab, it is computationally heavy here\n",
        "pyg_data = train_test_split_edges(pyg_data_loaded)"
      ],
      "metadata": {
        "id": "YxN_7d1zg_oB"
      },
      "execution_count": 19,
      "outputs": []
    },
    {
      "cell_type": "code",
      "source": [
        "from torch_geometric.utils import negative_sampling\n",
        "\n",
        "if not hasattr(pyg_data, 'train_neg_edge_index'):\n",
        "    pyg_data.train_neg_edge_index = negative_sampling(\n",
        "        edge_index=pyg_data_loaded.train_pos_edge_index,\n",
        "        num_nodes=pyg_data.num_nodes,\n",
        "        num_neg_samples=pyg_data_loaded.train_pos_edge_index.size(1)\n",
        "    )\n",
        "\n",
        "if not hasattr(pyg_data, 'val_neg_edge_index'):\n",
        "    pyg_data.val_neg_edge_index = negative_sampling(\n",
        "        edge_index=pyg_data.val_pos_edge_index,\n",
        "        num_nodes=pyg_data.num_nodes,\n",
        "        num_neg_samples=pyg_data.val_pos_edge_index.size(1)\n",
        "    )\n",
        "\n",
        "if not hasattr(pyg_data, 'test_neg_edge_index'):\n",
        "    pyg_data_loaded.test_neg_edge_index = negative_sampling(\n",
        "        edge_index=pyg_data.test_pos_edge_index,\n",
        "        num_nodes=pyg_data.num_nodes,\n",
        "        num_neg_samples=pyg_data.test_pos_edge_index.size(1)\n",
        "    )"
      ],
      "metadata": {
        "id": "9Ff0jDnwk679"
      },
      "execution_count": 20,
      "outputs": []
    },
    {
      "cell_type": "code",
      "source": [
        "print(hasattr(pyg_data, 'train_pos_edge_index'))\n",
        "print(hasattr(pyg_data, 'train_neg_edge_index'))\n",
        "print(hasattr(pyg_data, 'val_pos_edge_index'))\n",
        "print(hasattr(pyg_data, 'val_neg_edge_index'))"
      ],
      "metadata": {
        "colab": {
          "base_uri": "https://localhost:8080/"
        },
        "id": "sLGBpi7vljyi",
        "outputId": "b2aefec9-0db8-4301-f69a-b3b8801757d3"
      },
      "execution_count": 21,
      "outputs": [
        {
          "output_type": "stream",
          "name": "stdout",
          "text": [
            "True\n",
            "True\n",
            "True\n",
            "True\n"
          ]
        }
      ]
    },
    {
      "cell_type": "code",
      "source": [
        "class GraphSAGE(torch.nn.Module):\n",
        "  def __init__(self, in_channels, hidden_channels, out_channels):\n",
        "    super(GraphSAGE, self).__init__()\n",
        "    self.conv1 = SAGEConv(in_channels, hidden_channels)\n",
        "    self.conv2 = SAGEConv(hidden_channels, out_channels)\n",
        "\n",
        "  def encode(self, x, edge_index):\n",
        "    x = self.conv1(x, edge_index)\n",
        "    x = F.relu(x)\n",
        "    x = self.conv2(x, edge_index)\n",
        "    return x\n",
        "\n",
        "  def decode(self, z, edge_index):\n",
        "    edge_embeddings = z[edge_index[0]] * z[edge_index[1]]\n",
        "    return edge_embeddings.sum(dim = 1)\n",
        "\n",
        "  def decode_all(self, z):\n",
        "    prob_adj = torch.matmul(z, z.t())\n",
        "    return prob_adj"
      ],
      "metadata": {
        "id": "vpDHbqUkEuRw"
      },
      "execution_count": 22,
      "outputs": []
    },
    {
      "cell_type": "code",
      "source": [
        "def binary_cross_entropy_loss(pos_pred, neg_pred):\n",
        "  pos_loss = -torch.log(pos_pred + 1e-15).mean()\n",
        "  neg_loss = -torch.log(1 - neg_pred + 1e-15).mean()\n",
        "  return pos_loss + neg_loss\n",
        "\n",
        "def train(model, data, optimizer):\n",
        "    model.train()\n",
        "    optimizer.zero_grad()\n",
        "    z = model.encode(data.x, data.train_pos_edge_index)\n",
        "    pos_pred = model.decode(z, data.train_pos_edge_index).sigmoid()\n",
        "    neg_pred = model.decode(z, data.train_neg_edge_index).sigmoid()\n",
        "    loss = binary_cross_entropy_loss(pos_pred, neg_pred)\n",
        "    loss.backward()\n",
        "    optimizer.step()\n",
        "    return loss\n",
        "\n",
        "@torch.no_grad()\n",
        "def test(model, data):\n",
        "    model.eval()\n",
        "    z = model.encode(data.x, data.train_pos_edge_index)\n",
        "    pos_pred = model.decode(z, data.test_pos_edge_index).sigmoid()\n",
        "    neg_pred = model.decode(z, data.test_neg_edge_index).sigmoid()\n",
        "    pos_labels = torch.ones(pos_pred.size(0))\n",
        "    neg_labels = torch.zeros(neg_pred.size(0))\n",
        "    y_pred = torch.cat([pos_pred, neg_pred])\n",
        "    y_true = torch.cat([pos_labels, neg_labels])\n",
        "    return F.binary_cross_entropy(y_pred, y_true)"
      ],
      "metadata": {
        "id": "Y-awBA56H25J"
      },
      "execution_count": 23,
      "outputs": []
    },
    {
      "cell_type": "code",
      "source": [
        "hidden_channels = 64\n",
        "out_channels = 32\n",
        "\n",
        "model = GraphSAGE(pyg_data_loaded.num_features, hidden_channels=hidden_channels, out_channels=out_channels)\n",
        "optimizer = torch.optim.Adam(model.parameters(), lr = 0.001)"
      ],
      "metadata": {
        "id": "A4RafpazPF7X"
      },
      "execution_count": 24,
      "outputs": []
    },
    {
      "cell_type": "code",
      "source": [
        "num_epochs = 50\n",
        "for epoch in range(1, num_epochs + 1):\n",
        "    loss = train(model, pyg_data, optimizer)\n",
        "    if epoch % 10 == 0:\n",
        "        test_loss = test(model, pyg_data)\n",
        "        print(f'Epoch: {epoch:01d}, Loss: {loss:.4f}, Test Loss: {test_loss:.4f}')"
      ],
      "metadata": {
        "colab": {
          "base_uri": "https://localhost:8080/"
        },
        "id": "4RSylQZ7gTYT",
        "outputId": "2cffd038-4dad-4546-82a0-03f07c4ce866"
      },
      "execution_count": null,
      "outputs": [
        {
          "output_type": "stream",
          "name": "stdout",
          "text": [
            "Epoch: 10, Loss: 1.4333, Test Loss: 0.7104\n"
          ]
        }
      ]
    },
    {
      "cell_type": "code",
      "source": [
        "from sklearn.metrics import roc_auc_score\n",
        "\n",
        "@torch.no_grad()\n",
        "def evaluate_auc(model, data):\n",
        "    model.eval()\n",
        "    z = model.encode(data.x, data.train_pos_edge_index)\n",
        "    pos_pred = model.decode(z, data.test_pos_edge_index).sigmoid()\n",
        "    neg_pred = model.decode(z, data.test_neg_edge_index).sigmoid()\n",
        "    pos_labels = torch.ones(pos_pred.size(0))\n",
        "    neg_labels = torch.zeros(neg_pred.size(0))\n",
        "    y_pred = torch.cat([pos_pred, neg_pred]).cpu().numpy()\n",
        "    y_true = torch.cat([pos_labels, neg_labels]).cpu().numpy()\n",
        "    auc_score = roc_auc_score(y_true, y_pred)\n",
        "    return auc_score"
      ],
      "metadata": {
        "id": "0kpuJivYJdRQ"
      },
      "execution_count": null,
      "outputs": []
    },
    {
      "cell_type": "code",
      "source": [
        "# Calculate AUC score for test data\n",
        "auc_score = evaluate_auc(model, pyg_data)\n",
        "print(f'Test AUC Score: {auc_score:.4f}')"
      ],
      "metadata": {
        "id": "lV6ZYLFLKZNd"
      },
      "execution_count": null,
      "outputs": []
    },
    {
      "cell_type": "markdown",
      "source": [
        "- Changing `lr` from 0.003 to 0.001 increased performance from 0.72+ to 0.76+"
      ],
      "metadata": {
        "id": "fWZJgLauKgKM"
      }
    },
    {
      "cell_type": "code",
      "source": [
        "# Calculate AUC score for test data\n",
        "auc_score = evaluate_auc(model, pyg_data)\n",
        "print(f'Test AUC Score: {auc_score:.4f}')"
      ],
      "metadata": {
        "colab": {
          "base_uri": "https://localhost:8080/"
        },
        "id": "TDx9D2AUJgEx",
        "outputId": "7600bd6f-951d-43f4-bae1-a2fb8ef5fd16"
      },
      "execution_count": null,
      "outputs": [
        {
          "output_type": "stream",
          "name": "stdout",
          "text": [
            "Test AUC Score: 0.7225\n"
          ]
        }
      ]
    },
    {
      "cell_type": "markdown",
      "source": [
        "- Changing `lr` from `0.01` to `0.003` increased performance from `0.51+` to `0.72+`"
      ],
      "metadata": {
        "id": "ueYSf2eBJseC"
      }
    },
    {
      "cell_type": "code",
      "source": [
        "# Calculate AUC score for test data\n",
        "auc_score = evaluate_auc(model, pyg_data)\n",
        "print(f'Test AUC Score: {auc_score:.4f}')"
      ],
      "metadata": {
        "colab": {
          "base_uri": "https://localhost:8080/"
        },
        "id": "0EPlje4-iNrh",
        "outputId": "2337f415-d398-4a37-b5dd-8de75e6c3ac0"
      },
      "execution_count": null,
      "outputs": [
        {
          "output_type": "stream",
          "name": "stdout",
          "text": [
            "Test AUC Score: 0.5124\n"
          ]
        }
      ]
    },
    {
      "cell_type": "markdown",
      "source": [
        "- First training `Test AUC Score: 0.5113` wiht `lr = 0.01`"
      ],
      "metadata": {
        "id": "VZm5BE_dv1RK"
      }
    },
    {
      "cell_type": "code",
      "source": [
        "model_save_path =  \"/content/drive/MyDrive/KOBBY/Datasets/hetnet/model/\" + \"hetnet_model_one.pth\"\n",
        "#torch.save(model.state_dict(), model_save_path)"
      ],
      "metadata": {
        "id": "7uEVxmNii2A2"
      },
      "execution_count": 10,
      "outputs": []
    },
    {
      "cell_type": "code",
      "source": [
        "## Re-initialize\n",
        "hidden_channels = 64\n",
        "out_channels = 32\n",
        "model = GraphSAGE(in_channels=pyg_data_loaded.num_features, hidden_channels=hidden_channels, out_channels=out_channels)\n",
        "\n",
        "model.load_state_dict(torch.load(model_save_path))\n",
        "model.eval()\n",
        "print(\"Model loaded successfully.\")"
      ],
      "metadata": {
        "colab": {
          "base_uri": "https://localhost:8080/"
        },
        "id": "22dRr_qjjd3p",
        "outputId": "b3d1ae98-ced2-4cd4-8885-7871f628481b"
      },
      "execution_count": 11,
      "outputs": [
        {
          "output_type": "stream",
          "name": "stdout",
          "text": [
            "Model loaded successfully.\n"
          ]
        }
      ]
    },
    {
      "cell_type": "code",
      "source": [
        "from torch_geometric.utils import negative_sampling\n",
        "\n",
        "candidate_non_links = negative_sampling(\n",
        "                      edge_index=pyg_data_loaded.edge_index,\n",
        "                      num_nodes=pyg_data_loaded.num_nodes,\n",
        "                      num_neg_samples=50000\n",
        "                      )\n",
        "candidate_non_links"
      ],
      "metadata": {
        "colab": {
          "base_uri": "https://localhost:8080/"
        },
        "id": "-3GSuWrPHZ68",
        "outputId": "d0bb3d1d-ba4e-476d-a484-fbdb8a8d0cbe"
      },
      "execution_count": 12,
      "outputs": [
        {
          "output_type": "execute_result",
          "data": {
            "text/plain": [
              "tensor([[28601, 10687, 27818,  ...,  7093,  1448,  5375],\n",
              "        [21574, 20124,  5145,  ..., 19833, 22651, 28213]])"
            ]
          },
          "metadata": {},
          "execution_count": 12
        }
      ]
    },
    {
      "cell_type": "code",
      "source": [
        "node_embeddings = model.encode(pyg_data_loaded.x, pyg_data_loaded.edge_index)\n",
        "link_probs = model.decode(node_embeddings, candidate_non_links).sigmoid()"
      ],
      "metadata": {
        "id": "RUWRROxKvbLO"
      },
      "execution_count": 13,
      "outputs": []
    },
    {
      "cell_type": "code",
      "source": [
        "threshold = 0.8\n",
        "predicted_new_links = candidate_non_links[:, link_probs > threshold]\n",
        "predicted_scores = link_probs[link_probs > threshold]\n",
        "\n",
        "for i, (node_pair, score) in enumerate(zip(candidate_non_links.t().tolist(), predicted_scores.tolist())):\n",
        "    print(f\"Predicted link between nodes {node_pair[0]} and {node_pair[1]} with score {score:.4f}\")\n",
        "\n",
        "    if i == 20:\n",
        "      break"
      ],
      "metadata": {
        "colab": {
          "base_uri": "https://localhost:8080/"
        },
        "id": "KDSlG2A-HZap",
        "outputId": "da2bdddc-0c36-4d04-cd47-6603c5b28dca"
      },
      "execution_count": 15,
      "outputs": [
        {
          "output_type": "stream",
          "name": "stdout",
          "text": [
            "Predicted link between nodes 28601 and 21574 with score 0.8029\n",
            "Predicted link between nodes 10687 and 20124 with score 0.8096\n",
            "Predicted link between nodes 27818 and 5145 with score 0.8239\n",
            "Predicted link between nodes 795 and 3569 with score 0.8111\n",
            "Predicted link between nodes 1443 and 11288 with score 0.8361\n",
            "Predicted link between nodes 1328 and 17184 with score 0.8080\n",
            "Predicted link between nodes 8135 and 4049 with score 0.8151\n",
            "Predicted link between nodes 18389 and 17281 with score 0.8223\n",
            "Predicted link between nodes 12347 and 21564 with score 0.8056\n",
            "Predicted link between nodes 11937 and 12292 with score 0.8148\n",
            "Predicted link between nodes 734 and 24215 with score 0.8017\n",
            "Predicted link between nodes 10338 and 13770 with score 0.8164\n",
            "Predicted link between nodes 17508 and 3822 with score 0.8105\n",
            "Predicted link between nodes 22617 and 21000 with score 0.8460\n",
            "Predicted link between nodes 21977 and 338 with score 0.8072\n",
            "Predicted link between nodes 21043 and 19006 with score 0.8281\n",
            "Predicted link between nodes 25118 and 11354 with score 0.8103\n",
            "Predicted link between nodes 12819 and 14863 with score 0.8005\n",
            "Predicted link between nodes 24228 and 4412 with score 0.8688\n",
            "Predicted link between nodes 341 and 9601 with score 0.8507\n",
            "Predicted link between nodes 22206 and 25187 with score 0.8044\n"
          ]
        }
      ]
    },
    {
      "cell_type": "code",
      "source": [
        "from sklearn.metrics import precision_score, recall_score, average_precision_score, precision_recall_curve\n",
        "import networkx as nx\n",
        "import matplotlib.pyplot as plt\n",
        "\n",
        "def compute_metrics(y_true, y_pred, graph, predicted_edges, threshold=0.5):\n",
        "    \"\"\"\n",
        "    Compute precision, recall, AUPRC, and graph connectivity improvement.\n",
        "\n",
        "    Parameters:\n",
        "        y_true (list): Ground truth labels (1 for edge, 0 for non-edge).\n",
        "        y_pred (list): Predicted probabilities or scores for edges.\n",
        "        graph (networkx.Graph): Original graph.\n",
        "        predicted_edges (list of tuples): Predicted edges as (node1, node2).\n",
        "        threshold (float): Threshold for classifying edges as present.\n",
        "\n",
        "    Returns:\n",
        "        dict: Dictionary containing precision, recall, AUPRC, and graph sparsity improvement.\n",
        "    \"\"\"\n",
        "    ## Threshold predictions to binary labels\n",
        "    y_pred_binary = [1 if p >= threshold else 0 for p in y_pred]\n",
        "\n",
        "    # Compute Precision and Recall\n",
        "    precision = precision_score(y_true, y_pred_binary)\n",
        "    recall = recall_score(y_true, y_pred_binary)\n",
        "\n",
        "    # Compute AUPRC\n",
        "    auprc = average_precision_score(y_true, y_pred)\n",
        "\n",
        "    ### Plot Precision-Recall Curve\n",
        "    precisions, recalls, _ = precision_recall_curve(y_true, y_pred)\n",
        "    plt.figure(figsize=(8, 6))\n",
        "    plt.plot(recalls, precisions, label=f\"AUPRC = {auprc:.3f}\")\n",
        "    plt.xlabel(\"Recall\")\n",
        "    plt.ylabel(\"Precision\")\n",
        "    plt.title(\"Precision-Recall Curve\")\n",
        "    plt.legend()\n",
        "    plt.show()\n",
        "\n",
        "    ## Compute Graph Connectivity Improvement\n",
        "    original_sparsity = 1 - (len(graph.edges) / (len(graph.nodes) * (len(graph.nodes) - 1) / 2))\n",
        "\n",
        "    #### Add predicted edges to graph\n",
        "    predicted_graph = graph.copy()\n",
        "    predicted_graph.add_edges_from(predicted_edges)\n",
        "\n",
        "    new_sparsity = 1 - (len(predicted_graph.edges) / (len(predicted_graph.nodes) * (len(predicted_graph.nodes) - 1) / 2))\n",
        "    connectivity_improvement = original_sparsity - new_sparsity\n",
        "\n",
        "    return {\n",
        "        \"Precision\": precision,\n",
        "        \"Recall\": recall,\n",
        "        \"AUPRC\": auprc,\n",
        "        \"Original Sparsity\": original_sparsity,\n",
        "        \"New Sparsity\": new_sparsity,\n",
        "        \"Connectivity Improvement\": connectivity_improvement\n",
        "    }"
      ],
      "metadata": {
        "id": "lfPp66y-IWMe"
      },
      "execution_count": null,
      "outputs": []
    },
    {
      "cell_type": "code",
      "source": [
        "pos_edges = pyg_data.val_pos_edge_index\n",
        "neg_edges = pyg_data.val_neg_edge_index\n",
        "\n",
        "# Ground truth labels: 1 for positive edges, 0 for negative edges\n",
        "y_true = [1] * pos_edges.size(1) + [0] * neg_edges.size(1)\n",
        "\n",
        "# Generate predictions for both positive and negative edges\n",
        "pos_preds = model.decode(model.encode(pyg_data.x, pos_edges), pos_edges).sigmoid().detach().numpy()\n",
        "neg_preds = model.decode(model.encode(pyg_data.x, neg_edges), neg_edges).sigmoid().detach().numpy()\n",
        "y_pred = list(pos_preds) + list(neg_preds)"
      ],
      "metadata": {
        "colab": {
          "base_uri": "https://localhost:8080/"
        },
        "id": "QTsnFYbbkrYo",
        "outputId": "6079a52d-2c31-4458-8aed-7757a185b1a4"
      },
      "execution_count": 11,
      "outputs": [
        {
          "output_type": "execute_result",
          "data": {
            "text/plain": [
              "([0.8918322,\n",
              "  0.92516845,\n",
              "  0.91739255,\n",
              "  0.93582165,\n",
              "  0.9154604,\n",
              "  0.9275602,\n",
              "  0.9282282,\n",
              "  0.930887,\n",
              "  0.89769423,\n",
              "  0.90048397],\n",
              " [1, 1, 1, 1, 1, 1, 1, 1, 1, 1])"
            ]
          },
          "metadata": {},
          "execution_count": 11
        }
      ]
    },
    {
      "cell_type": "code",
      "source": [
        "from sklearn.metrics import precision_score, recall_score, average_precision_score, precision_recall_curve\n",
        "import matplotlib.pyplot as plt\n",
        "\n",
        "# Compute Precision and Recall\n",
        "precision = precision_score(y_true, [1 if p >= 0.5 else 0 for p in y_pred])\n",
        "recall = recall_score(y_true, [1 if p >= 0.5 else 0 for p in y_pred])\n",
        "\n",
        "# Compute AUPRC\n",
        "auprc = average_precision_score(y_true, y_pred)\n",
        "\n",
        "# Plot Precision-Recall Curve\n",
        "precisions, recalls, _ = precision_recall_curve(y_true, y_pred)\n",
        "plt.figure(figsize=(8, 6))\n",
        "plt.plot(recalls, precisions, label=f\"AUPRC = {auprc:.3f}\")\n",
        "plt.xlabel(\"Recall\")\n",
        "plt.ylabel(\"Precision\")\n",
        "plt.title(\"Precision-Recall Curve\")\n",
        "plt.legend()\n",
        "plt.show()\n",
        "\n",
        "print(f\"Precision: {precision:.3f}\")\n",
        "print(f\"Recall: {recall:.3f}\")\n",
        "print(f\"AUPRC: {auprc:.3f}\")"
      ],
      "metadata": {
        "colab": {
          "base_uri": "https://localhost:8080/",
          "height": 618
        },
        "id": "PaAGYmkjtEXE",
        "outputId": "3ec2e786-5cf3-4b39-f4cc-b8b4b352507f"
      },
      "execution_count": 12,
      "outputs": [
        {
          "output_type": "display_data",
          "data": {
            "text/plain": [
              "<Figure size 800x600 with 1 Axes>"
            ],
            "image/png": "[encoded data removed]"
          },
          "metadata": {}
        },
        {
          "output_type": "stream",
          "name": "stdout",
          "text": [
            "Precision: 0.500\n",
            "Recall: 1.000\n",
            "AUPRC: 0.508\n"
          ]
        }
      ]
    },
    {
      "cell_type": "code",
      "source": [
        "import networkx as nx\n",
        "\n",
        "original_graph = nx.Graph()\n",
        "original_graph.add_edges_from(pyg_data.train_pos_edge_index.T.tolist())\n",
        "\n",
        "predicted_edges = [(int(edge[0]), int(edge[1])) for edge, pred in zip(\n",
        "    pos_edges.T.tolist() + neg_edges.T.tolist(), y_pred) if pred > 0.8]\n",
        "\n",
        "##Create a new graph with predicted edges\n",
        "predicted_graph = original_graph.copy()\n",
        "predicted_graph.add_edges_from(predicted_edges)\n",
        "\n",
        "#Compute sparsity before and after adding predicted edges\n",
        "original_sparsity = 1 - (len(original_graph.edges) / (len(original_graph.nodes) * (len(original_graph.nodes) - 1) / 2))\n",
        "new_sparsity = 1 - (len(predicted_graph.edges) / (len(predicted_graph.nodes) * (len(predicted_graph.nodes) - 1) / 2))\n",
        "connectivity_improvement = original_sparsity - new_sparsity\n",
        "\n",
        "print(f\"Original Sparsity: {original_sparsity:.6f}\")\n",
        "print(f\"New Sparsity: {new_sparsity:.6f}\")\n",
        "print(f\"Connectivity Improvement: {connectivity_improvement:.6f}\")"
      ],
      "metadata": {
        "colab": {
          "base_uri": "https://localhost:8080/"
        },
        "id": "PcuGavq_kbSp",
        "outputId": "94cbc135-b702-49be-e9eb-32a1ae9e53e1"
      },
      "execution_count": 13,
      "outputs": [
        {
          "output_type": "stream",
          "name": "stdout",
          "text": [
            "Original Sparsity: 0.998174\n",
            "New Sparsity: 0.998067\n",
            "Connectivity Improvement: 0.000107\n"
          ]
        }
      ]
    }
  ]
}